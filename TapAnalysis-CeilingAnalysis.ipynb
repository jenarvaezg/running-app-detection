{
 "cells": [
  {
   "cell_type": "code",
   "execution_count": 1,
   "metadata": {
    "collapsed": true
   },
   "outputs": [],
   "source": [
    "import graphlab"
   ]
  },
  {
   "cell_type": "code",
   "execution_count": 2,
   "metadata": {
    "collapsed": false
   },
   "outputs": [],
   "source": [
    "graphlab.canvas.set_target('ipynb')"
   ]
  },
  {
   "cell_type": "code",
   "execution_count": 3,
   "metadata": {
    "collapsed": false
   },
   "outputs": [
    {
     "name": "stdout",
     "output_type": "stream",
     "text": [
      "This non-commercial license of GraphLab Create for academic use is assigned to jenarvaezg@gmail.com and will expire on December 12, 2017.\n"
     ]
    },
    {
     "name": "stderr",
     "output_type": "stream",
     "text": [
      "[INFO] graphlab.cython.cy_server: GraphLab Create v2.1 started. Logging: C:\\Users\\JOSENR~1\\AppData\\Local\\Temp\\graphlab_server_1488211673.log.0\n"
     ]
    },
    {
     "data": {
      "text/html": [
       "<pre>Finished parsing file C:\\Users\\José Enrique Narváez\\Documents\\TFM\\data\\thousand_taps_f.csv</pre>"
      ],
      "text/plain": [
       "Finished parsing file C:\\Users\\José Enrique Narváez\\Documents\\TFM\\data\\thousand_taps_f.csv"
      ]
     },
     "metadata": {},
     "output_type": "display_data"
    },
    {
     "data": {
      "text/html": [
       "<pre>Parsing completed. Parsed 100 lines in 1.41755 secs.</pre>"
      ],
      "text/plain": [
       "Parsing completed. Parsed 100 lines in 1.41755 secs."
      ]
     },
     "metadata": {},
     "output_type": "display_data"
    },
    {
     "name": "stdout",
     "output_type": "stream",
     "text": [
      "------------------------------------------------------\n",
      "Inferred types from first 100 line(s) of file as \n",
      "column_type_hints=[long,float,float,float,float,float,float,float,float,float,float,float,float,float,float,float,float,float,float,long,float,float,float,float,float,float,float,float,float,float,float,float,float,float,float,float,float,float,str,str,str,long,long]\n",
      "If parsing fails due to incorrect types, you can correct\n",
      "the inferred type list above and pass it to read_csv in\n",
      "the column_type_hints argument\n",
      "------------------------------------------------------\n"
     ]
    },
    {
     "data": {
      "text/html": [
       "<pre>Finished parsing file C:\\Users\\José Enrique Narváez\\Documents\\TFM\\data\\thousand_taps_f.csv</pre>"
      ],
      "text/plain": [
       "Finished parsing file C:\\Users\\José Enrique Narváez\\Documents\\TFM\\data\\thousand_taps_f.csv"
      ]
     },
     "metadata": {},
     "output_type": "display_data"
    },
    {
     "data": {
      "text/html": [
       "<pre>Parsing completed. Parsed 88140 lines in 1.76737 secs.</pre>"
      ],
      "text/plain": [
       "Parsing completed. Parsed 88140 lines in 1.76737 secs."
      ]
     },
     "metadata": {},
     "output_type": "display_data"
    }
   ],
   "source": [
    "taps = graphlab.SFrame.read_csv(\"data/thousand_taps_f.csv\")"
   ]
  },
  {
   "cell_type": "code",
   "execution_count": 4,
   "metadata": {
    "collapsed": true
   },
   "outputs": [],
   "source": [
    "features = [\n",
    "    \"n_accel\",\n",
    "    \n",
    "    \"accel_x_mean\",\n",
    "    \"accel_x_median\",\n",
    "    \"accel_x_var\",\n",
    "    \"accel_x_skewness\",\n",
    "    \"accel_x_kurtosis\",\n",
    "    \"accel_x_diff\",\n",
    "    \n",
    "    \"accel_y_mean\",\n",
    "    \"accel_y_median\",\n",
    "    \"accel_y_skewness\",\n",
    "    \"accel_y_kurtosis\",\n",
    "    \"accel_y_var\",\n",
    "    \"accel_y_diff\",\n",
    "    \n",
    "    \"accel_z_mean\",\n",
    "    \"accel_z_var\",   \n",
    "    \"accel_z_median\",\n",
    "    \"accel_z_skewness\",\n",
    "    \"accel_z_kurtosis\",\n",
    "    \"accel_z_diff\",\n",
    "    \n",
    "    \"n_gyro\",\n",
    "    \n",
    "    \"gyro_x_mean\",\n",
    "    \"gyro_x_median\",\n",
    "    \"gyro_x_var\",\n",
    "    \"gyro_x_skewness\",\n",
    "    \"gyro_x_kurtosis\",\n",
    "    \"gyro_x_diff\",\n",
    "    \n",
    "    \"gyro_y_mean\",\n",
    "    \"gyro_y_median\",\n",
    "    \"gyro_y_var\",\n",
    "    \"gyro_y_skewness\",\n",
    "    \"gyro_y_kurtosis\",\n",
    "    \"gyro_y_diff\",\n",
    "    \n",
    "    \"gyro_z_mean\",\n",
    "    \"gyro_z_median\",\n",
    "    \"gyro_z_var\",\n",
    "    \"gyro_z_skewness\",\n",
    "    \"gyro_z_kurtosis\",\n",
    "    \"gyro_z_diff\",\n",
    "    \n",
    "] \n",
    "\n"
   ]
  },
  {
   "cell_type": "code",
   "execution_count": 5,
   "metadata": {
    "collapsed": false
   },
   "outputs": [],
   "source": [
    "train, test = taps.random_split(0.8, seed=1)"
   ]
  },
  {
   "cell_type": "code",
   "execution_count": 6,
   "metadata": {
    "collapsed": false
   },
   "outputs": [],
   "source": [
    "noise_model = graphlab.load_model(\"models/optimized_noise_classifier\")\n",
    "type_model = graphlab.load_model(\"models/optimized_type_classifier\")\n",
    "touch_model = graphlab.load_model(\"models/optimized_touch_model\")\n",
    "swipe_model = graphlab.load_model(\"models/optimized_swipe_model\")"
   ]
  },
  {
   "cell_type": "code",
   "execution_count": 7,
   "metadata": {
    "collapsed": true
   },
   "outputs": [],
   "source": [
    "noise = test[test['noise'] == 1]\n",
    "not_noise = test[test['noise'] == 0]\n",
    "\n",
    "touches = not_noise[not_noise['type'] == \"TOUCH\"]\n",
    "swipes = not_noise[not_noise['type'] == \"SWIPE\"]"
   ]
  },
  {
   "cell_type": "markdown",
   "metadata": {
    "collapsed": false
   },
   "source": [
    "# [Ceiling Analysis explained](https://d3c33hcgiwev3.cloudfront.net/19.4-ApplicationExamplePhotoOCR-CeilingAnalysisWhatPartOfThePipelineToWorkOnNext.6acb6550b22b11e49c064db6ead92550/full/540p/index.mp4?Expires=1488067200&Signature=Wlu5B9uRkREYKt0~6bVR~i6Tp5zN6k-uCRjFczQZKDu1dy6a1R55DLNWtknej1AbqtmZccxk8qDUiIJ7kT9U48llZxK1Y1BV2jqHR~iSkYK-pLmqZDCH-bDkEyMgDj-bdckYvqadcFpKj308QhIW8ihdsql-h9ehQx5DlDG5ERs_&Key-Pair-Id=APKAJLTNE6QMUY6HBC5A)"
   ]
  },
  {
   "cell_type": "markdown",
   "metadata": {},
   "source": [
    "# Full model"
   ]
  },
  {
   "cell_type": "code",
   "execution_count": 8,
   "metadata": {
    "collapsed": false
   },
   "outputs": [
    {
     "name": "stdout",
     "output_type": "stream",
     "text": [
      "Touch final f1 88.9046399966 %\n",
      "Touch final confusion\n",
      "+---------------+-----------------+-------+\n",
      "|  target_label | predicted_label | count |\n",
      "+---------------+-----------------+-------+\n",
      "|  BOTTOM-RIGHT |   BOTTOM-RIGHT  |  200  |\n",
      "|  CENTER-RIGHT |   CENTER-RIGHT  |  179  |\n",
      "|  CENTER-LEFT  |   CENTER-LEFT   |  176  |\n",
      "|  BOTTOM-LEFT  |   BOTTOM-LEFT   |  167  |\n",
      "|   TOP-RIGHT   |    TOP-RIGHT    |  165  |\n",
      "|     CENTER    |      CENTER     |  160  |\n",
      "|   TOP-CENTER  |    TOP-CENTER   |  131  |\n",
      "| BOTTOM-CENTER |  BOTTOM-CENTER  |  125  |\n",
      "|    TOP-LEFT   |     TOP-LEFT    |  120  |\n",
      "|     NOISE     |    TOP-RIGHT    |   4   |\n",
      "+---------------+-----------------+-------+\n",
      "[20 rows x 3 columns]\n",
      "Note: Only the head of the SFrame is printed.\n",
      "You can use print_rows(num_rows=m, num_columns=n) to print more rows and columns.\n",
      "Swipe final f1 66.4897122084 %\n",
      "Swipe final confusion\n",
      "+--------------+-----------------+-------+\n",
      "| target_label | predicted_label | count |\n",
      "+--------------+-----------------+-------+\n",
      "| BOTTOM->TOP  |   BOTTOM->TOP   |  174  |\n",
      "| RIGHT->LEFT  |   RIGHT->LEFT   |   71  |\n",
      "| TOP->BOTTOM  |   TOP->BOTTOM   |   64  |\n",
      "| LEFT->RIGHT  |   LEFT->RIGHT   |   46  |\n",
      "|    NOISE     |   BOTTOM->TOP   |   1   |\n",
      "|  TOP-CENTER  |   TOP->BOTTOM   |   1   |\n",
      "+--------------+-----------------+-------+\n",
      "[6 rows x 3 columns]\n",
      "\n"
     ]
    }
   ],
   "source": [
    "predicted_not_noise = test[noise_model.predict(test) == 0]\n",
    "\n",
    "\n",
    "predicted_touches = predicted_not_noise[type_model.predict(predicted_not_noise) == \"TOUCH\"]\n",
    "predicted_swipes = predicted_not_noise[type_model.predict(predicted_not_noise) == \"SWIPE\"]\n",
    "\n",
    "print \"Touch final f1\", touch_model.evaluate(predicted_touches)['f1_score']*100, \"%\"\n",
    "print \"Touch final confusion\"\n",
    "print touch_model.evaluate(predicted_touches)['confusion_matrix'].sort(\"count\", ascending=False)\n",
    "print \"Swipe final f1\", swipe_model.evaluate(predicted_swipes)['f1_score']*100, \"%\"\n",
    "print \"Swipe final confusion\"\n",
    "print swipe_model.evaluate(predicted_swipes)['confusion_matrix'].sort(\"count\", ascending=False)"
   ]
  },
  {
   "cell_type": "markdown",
   "metadata": {
    "collapsed": false
   },
   "source": [
    "# When providing real not_noise"
   ]
  },
  {
   "cell_type": "code",
   "execution_count": 9,
   "metadata": {
    "collapsed": false
   },
   "outputs": [
    {
     "name": "stdout",
     "output_type": "stream",
     "text": [
      "Touch final f1 99.769580207 %\n",
      "Touch final confusion\n",
      "+---------------+-----------------+-------+\n",
      "|  target_label | predicted_label | count |\n",
      "+---------------+-----------------+-------+\n",
      "|  BOTTOM-RIGHT |   BOTTOM-RIGHT  |  204  |\n",
      "|  CENTER-RIGHT |   CENTER-RIGHT  |  188  |\n",
      "|  CENTER-LEFT  |   CENTER-LEFT   |  181  |\n",
      "|  BOTTOM-LEFT  |   BOTTOM-LEFT   |  171  |\n",
      "|   TOP-RIGHT   |    TOP-RIGHT    |  168  |\n",
      "|     CENTER    |      CENTER     |  166  |\n",
      "|   TOP-CENTER  |    TOP-CENTER   |  131  |\n",
      "| BOTTOM-CENTER |  BOTTOM-CENTER  |  129  |\n",
      "|    TOP-LEFT   |     TOP-LEFT    |  123  |\n",
      "|    TOP-LEFT   |    TOP-CENTER   |   2   |\n",
      "+---------------+-----------------+-------+\n",
      "[11 rows x 3 columns]\n",
      "Note: Only the head of the SFrame is printed.\n",
      "You can use print_rows(num_rows=m, num_columns=n) to print more rows and columns.\n",
      "Swipe final f1 79.8473282443 %\n",
      "Swipe final confusion\n",
      "+--------------+-----------------+-------+\n",
      "| target_label | predicted_label | count |\n",
      "+--------------+-----------------+-------+\n",
      "| BOTTOM->TOP  |   BOTTOM->TOP   |  179  |\n",
      "| RIGHT->LEFT  |   RIGHT->LEFT   |   76  |\n",
      "| TOP->BOTTOM  |   TOP->BOTTOM   |   65  |\n",
      "| LEFT->RIGHT  |   LEFT->RIGHT   |   48  |\n",
      "|  TOP-CENTER  |   TOP->BOTTOM   |   1   |\n",
      "+--------------+-----------------+-------+\n",
      "[5 rows x 3 columns]\n",
      "\n"
     ]
    }
   ],
   "source": [
    "predicted_touches = not_noise[type_model.predict(not_noise) == \"TOUCH\"]\n",
    "predicted_swipes = not_noise[type_model.predict(not_noise) == \"SWIPE\"]\n",
    "\n",
    "print \"Touch final f1\", touch_model.evaluate(predicted_touches)['f1_score']*100, \"%\"\n",
    "print \"Touch final confusion\"\n",
    "print touch_model.evaluate(predicted_touches)['confusion_matrix'].sort(\"count\", ascending=False)\n",
    "print \"Swipe final f1\", swipe_model.evaluate(predicted_swipes)['f1_score']*100, \"%\"\n",
    "print \"Swipe final confusion\"\n",
    "print swipe_model.evaluate(predicted_swipes)['confusion_matrix'].sort(\"count\", ascending=False)"
   ]
  },
  {
   "cell_type": "markdown",
   "metadata": {
    "collapsed": false
   },
   "source": [
    "# When providing real swipes and touches"
   ]
  },
  {
   "cell_type": "code",
   "execution_count": 11,
   "metadata": {
    "collapsed": false
   },
   "outputs": [
    {
     "name": "stdout",
     "output_type": "stream",
     "text": [
      "Touch final f1 99.7702131023 %\n",
      "Touch final confusion\n",
      "+---------------+-----------------+-------+\n",
      "|  target_label | predicted_label | count |\n",
      "+---------------+-----------------+-------+\n",
      "|  BOTTOM-RIGHT |   BOTTOM-RIGHT  |  204  |\n",
      "|  CENTER-RIGHT |   CENTER-RIGHT  |  188  |\n",
      "|  CENTER-LEFT  |   CENTER-LEFT   |  181  |\n",
      "|  BOTTOM-LEFT  |   BOTTOM-LEFT   |  171  |\n",
      "|   TOP-RIGHT   |    TOP-RIGHT    |  168  |\n",
      "|     CENTER    |      CENTER     |  166  |\n",
      "|   TOP-CENTER  |    TOP-CENTER   |  132  |\n",
      "| BOTTOM-CENTER |  BOTTOM-CENTER  |  129  |\n",
      "|    TOP-LEFT   |     TOP-LEFT    |  123  |\n",
      "|    TOP-LEFT   |    TOP-CENTER   |   2   |\n",
      "+---------------+-----------------+-------+\n",
      "[11 rows x 3 columns]\n",
      "Note: Only the head of the SFrame is printed.\n",
      "You can use print_rows(num_rows=m, num_columns=n) to print more rows and columns.\n",
      "Swipe final f1 100.0 %\n",
      "Swipe final confusion\n",
      "+--------------+-----------------+-------+\n",
      "| target_label | predicted_label | count |\n",
      "+--------------+-----------------+-------+\n",
      "| BOTTOM->TOP  |   BOTTOM->TOP   |  179  |\n",
      "| RIGHT->LEFT  |   RIGHT->LEFT   |   76  |\n",
      "| TOP->BOTTOM  |   TOP->BOTTOM   |   65  |\n",
      "| LEFT->RIGHT  |   LEFT->RIGHT   |   48  |\n",
      "+--------------+-----------------+-------+\n",
      "[4 rows x 3 columns]\n",
      "\n"
     ]
    }
   ],
   "source": [
    "print \"Touch final f1\", touch_model.evaluate(touches)['f1_score']*100, \"%\"\n",
    "print \"Touch final confusion\"\n",
    "print touch_model.evaluate(touches)['confusion_matrix'].sort(\"count\", ascending=False)\n",
    "print \"Swipe final f1\", swipe_model.evaluate(swipes)['f1_score']*100, \"%\"\n",
    "print \"Swipe final confusion\"\n",
    "print swipe_model.evaluate(swipes)['confusion_matrix'].sort(\"count\", ascending=False)"
   ]
  },
  {
   "cell_type": "code",
   "execution_count": null,
   "metadata": {
    "collapsed": true
   },
   "outputs": [],
   "source": []
  }
 ],
 "metadata": {
  "kernelspec": {
   "display_name": "Python 2",
   "language": "python",
   "name": "python2"
  },
  "language_info": {
   "codemirror_mode": {
    "name": "ipython",
    "version": 2
   },
   "file_extension": ".py",
   "mimetype": "text/x-python",
   "name": "python",
   "nbconvert_exporter": "python",
   "pygments_lexer": "ipython2",
   "version": "2.7.11"
  }
 },
 "nbformat": 4,
 "nbformat_minor": 0
}
