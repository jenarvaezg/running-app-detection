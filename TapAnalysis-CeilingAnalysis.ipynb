{
 "cells": [
  {
   "cell_type": "code",
   "execution_count": 1,
   "metadata": {
    "collapsed": true
   },
   "outputs": [],
   "source": [
    "import graphlab"
   ]
  },
  {
   "cell_type": "code",
   "execution_count": 2,
   "metadata": {
    "collapsed": false
   },
   "outputs": [],
   "source": [
    "graphlab.canvas.set_target('ipynb')"
   ]
  },
  {
   "cell_type": "code",
   "execution_count": 3,
   "metadata": {
    "collapsed": false
   },
   "outputs": [
    {
     "name": "stderr",
     "output_type": "stream",
     "text": [
      "[INFO] graphlab.cython.cy_server: GraphLab Create v2.1 started. Logging: C:\\Users\\JOSENR~1\\AppData\\Local\\Temp\\graphlab_server_1487923817.log.0\n"
     ]
    },
    {
     "name": "stdout",
     "output_type": "stream",
     "text": [
      "This non-commercial license of GraphLab Create for academic use is assigned to jenarvaezg@gmail.com and will expire on December 12, 2017.\n"
     ]
    },
    {
     "data": {
      "text/html": [
       "<pre>Finished parsing file C:\\Users\\José Enrique Narváez\\Documents\\TFM\\data\\thousand_taps_f.csv</pre>"
      ],
      "text/plain": [
       "Finished parsing file C:\\Users\\José Enrique Narváez\\Documents\\TFM\\data\\thousand_taps_f.csv"
      ]
     },
     "metadata": {},
     "output_type": "display_data"
    },
    {
     "data": {
      "text/html": [
       "<pre>Parsing completed. Parsed 100 lines in 0.237185 secs.</pre>"
      ],
      "text/plain": [
       "Parsing completed. Parsed 100 lines in 0.237185 secs."
      ]
     },
     "metadata": {},
     "output_type": "display_data"
    },
    {
     "name": "stdout",
     "output_type": "stream",
     "text": [
      "------------------------------------------------------\n",
      "Inferred types from first 100 line(s) of file as \n",
      "column_type_hints=[long,float,float,float,float,float,float,float,float,float,float,float,float,float,float,float,float,float,float,long,float,float,float,float,float,float,float,float,float,float,float,float,float,float,float,float,float,float,str,str,str,long,long]\n",
      "If parsing fails due to incorrect types, you can correct\n",
      "the inferred type list above and pass it to read_csv in\n",
      "the column_type_hints argument\n",
      "------------------------------------------------------\n"
     ]
    },
    {
     "data": {
      "text/html": [
       "<pre>Finished parsing file C:\\Users\\José Enrique Narváez\\Documents\\TFM\\data\\thousand_taps_f.csv</pre>"
      ],
      "text/plain": [
       "Finished parsing file C:\\Users\\José Enrique Narváez\\Documents\\TFM\\data\\thousand_taps_f.csv"
      ]
     },
     "metadata": {},
     "output_type": "display_data"
    },
    {
     "data": {
      "text/html": [
       "<pre>Parsing completed. Parsed 88140 lines in 0.328749 secs.</pre>"
      ],
      "text/plain": [
       "Parsing completed. Parsed 88140 lines in 0.328749 secs."
      ]
     },
     "metadata": {},
     "output_type": "display_data"
    }
   ],
   "source": [
    "taps = graphlab.SFrame.read_csv(\"data/thousand_taps_f.csv\")"
   ]
  },
  {
   "cell_type": "code",
   "execution_count": 4,
   "metadata": {
    "collapsed": true
   },
   "outputs": [],
   "source": [
    "features = [\n",
    "    \"n_accel\",\n",
    "    \n",
    "    \"accel_x_mean\",\n",
    "    \"accel_x_median\",\n",
    "    \"accel_x_var\",\n",
    "    \"accel_x_skewness\",\n",
    "    \"accel_x_kurtosis\",\n",
    "    \"accel_x_diff\",\n",
    "    \n",
    "    \"accel_y_mean\",\n",
    "    \"accel_y_median\",\n",
    "    \"accel_y_skewness\",\n",
    "    \"accel_y_kurtosis\",\n",
    "    \"accel_y_var\",\n",
    "    \"accel_y_diff\",\n",
    "    \n",
    "    \"accel_z_mean\",\n",
    "    \"accel_z_var\",   \n",
    "    \"accel_z_median\",\n",
    "    \"accel_z_skewness\",\n",
    "    \"accel_z_kurtosis\",\n",
    "    \"accel_z_diff\",\n",
    "    \n",
    "    \"n_gyro\",\n",
    "    \n",
    "    \"gyro_x_mean\",\n",
    "    \"gyro_x_median\",\n",
    "    \"gyro_x_var\",\n",
    "    \"gyro_x_skewness\",\n",
    "    \"gyro_x_kurtosis\",\n",
    "    \"gyro_x_diff\",\n",
    "    \n",
    "    \"gyro_y_mean\",\n",
    "    \"gyro_y_median\",\n",
    "    \"gyro_y_var\",\n",
    "    \"gyro_y_skewness\",\n",
    "    \"gyro_y_kurtosis\",\n",
    "    \"gyro_y_diff\",\n",
    "    \n",
    "    \"gyro_z_mean\",\n",
    "    \"gyro_z_median\",\n",
    "    \"gyro_z_var\",\n",
    "    \"gyro_z_skewness\",\n",
    "    \"gyro_z_kurtosis\",\n",
    "    \"gyro_z_diff\",\n",
    "    \n",
    "] \n",
    "\n"
   ]
  },
  {
   "cell_type": "code",
   "execution_count": 27,
   "metadata": {
    "collapsed": false
   },
   "outputs": [],
   "source": [
    "train, test = taps.random_split(0.8, seed=1)"
   ]
  },
  {
   "cell_type": "code",
   "execution_count": 29,
   "metadata": {
    "collapsed": false
   },
   "outputs": [],
   "source": [
    "noise_model = graphlab.load_model(\"models/optimized_noise_classifier\")\n",
    "type_model = graphlab.load_model(\"models/optimized_type_classifier\")\n",
    "touch_model = graphlab.load_model(\"models/optimized_touch_model\")\n",
    "swipe_model = graphlab.load_model(\"models/optimized_swipe_model\")"
   ]
  },
  {
   "cell_type": "code",
   "execution_count": 25,
   "metadata": {
    "collapsed": true
   },
   "outputs": [],
   "source": [
    "noise = test[test['noise'] == 1]\n",
    "not_noise = test[test['noise'] == 0]\n",
    "\n",
    "touches = not_noise[not_noise['type'] == \"TOUCH\"]\n",
    "swipes = not_noise[not_noise['type'] == \"SWIPE\"]"
   ]
  },
  {
   "cell_type": "markdown",
   "metadata": {
    "collapsed": false
   },
   "source": [
    "# [Ceiling Analysis explained](https://d3c33hcgiwev3.cloudfront.net/19.4-ApplicationExamplePhotoOCR-CeilingAnalysisWhatPartOfThePipelineToWorkOnNext.6acb6550b22b11e49c064db6ead92550/full/540p/index.mp4?Expires=1488067200&Signature=Wlu5B9uRkREYKt0~6bVR~i6Tp5zN6k-uCRjFczQZKDu1dy6a1R55DLNWtknej1AbqtmZccxk8qDUiIJ7kT9U48llZxK1Y1BV2jqHR~iSkYK-pLmqZDCH-bDkEyMgDj-bdckYvqadcFpKj308QhIW8ihdsql-h9ehQx5DlDG5ERs_&Key-Pair-Id=APKAJLTNE6QMUY6HBC5A)"
   ]
  },
  {
   "cell_type": "markdown",
   "metadata": {},
   "source": [
    "# Full model"
   ]
  },
  {
   "cell_type": "code",
   "execution_count": 30,
   "metadata": {
    "collapsed": false
   },
   "outputs": [
    {
     "name": "stdout",
     "output_type": "stream",
     "text": [
      "Touch final accuracy 97.8679504814 %\n",
      "Swipe final accuracy 99.4397759104 %\n"
     ]
    }
   ],
   "source": [
    "predicted_not_noise = test[noise_model.predict(test) == 0]\n",
    "\n",
    "\n",
    "predicted_touches = predicted_not_noise[type_model.predict(predicted_not_noise) == \"TOUCH\"]\n",
    "predicted_swipes = predicted_not_noise[type_model.predict(predicted_not_noise) == \"SWIPE\"]\n",
    "\n",
    "print \"Touch final accuracy\", touch_model.evaluate(predicted_touches)['accuracy']*100, \"%\"\n",
    "print \"Swipe final accuracy\", swipe_model.evaluate(predicted_swipes)['accuracy']*100, \"%\""
   ]
  },
  {
   "cell_type": "markdown",
   "metadata": {
    "collapsed": false
   },
   "source": [
    "# When providing real not_noise"
   ]
  },
  {
   "cell_type": "code",
   "execution_count": 31,
   "metadata": {
    "collapsed": false
   },
   "outputs": [
    {
     "name": "stdout",
     "output_type": "stream",
     "text": [
      "Touch final accuracy 99.7317236754 %\n",
      "Swipe final accuracy 100.0 %\n"
     ]
    }
   ],
   "source": [
    "predicted_touches = not_noise[type_model.predict(not_noise) == \"TOUCH\"]\n",
    "predicted_swipes = not_noise[type_model.predict(not_noise) == \"SWIPE\"]\n",
    "\n",
    "print \"Touch final accuracy\", touch_model.evaluate(predicted_touches)['accuracy']*100, \"%\"\n",
    "print \"Swipe final accuracy\", swipe_model.evaluate(predicted_swipes)['accuracy']*100, \"%\""
   ]
  },
  {
   "cell_type": "markdown",
   "metadata": {
    "collapsed": false
   },
   "source": [
    "# When providing real swipes and touches"
   ]
  },
  {
   "cell_type": "code",
   "execution_count": 32,
   "metadata": {
    "collapsed": false
   },
   "outputs": [
    {
     "name": "stdout",
     "output_type": "stream",
     "text": [
      "Touch final accuracy 99.7317236754 %\n",
      "Swipe final accuracy 100.0 %\n"
     ]
    }
   ],
   "source": [
    "print \"Touch final accuracy\", touch_model.evaluate(touches)['accuracy']*100, \"%\"\n",
    "print \"Swipe final accuracy\", swipe_model.evaluate(swipes)['accuracy']*100, \"%\""
   ]
  }
 ],
 "metadata": {
  "kernelspec": {
   "display_name": "Python 2",
   "language": "python",
   "name": "python2"
  },
  "language_info": {
   "codemirror_mode": {
    "name": "ipython",
    "version": 2
   },
   "file_extension": ".py",
   "mimetype": "text/x-python",
   "name": "python",
   "nbconvert_exporter": "python",
   "pygments_lexer": "ipython2",
   "version": "2.7.11"
  }
 },
 "nbformat": 4,
 "nbformat_minor": 0
}
