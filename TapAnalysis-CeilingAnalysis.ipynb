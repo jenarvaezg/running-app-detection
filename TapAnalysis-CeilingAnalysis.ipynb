{
 "cells": [
  {
   "cell_type": "code",
   "execution_count": 1,
   "metadata": {
    "collapsed": true,
    "deletable": true,
    "editable": true
   },
   "outputs": [],
   "source": [
    "import graphlab"
   ]
  },
  {
   "cell_type": "code",
   "execution_count": 2,
   "metadata": {
    "collapsed": false,
    "deletable": true,
    "editable": true
   },
   "outputs": [],
   "source": [
    "graphlab.canvas.set_target('ipynb')"
   ]
  },
  {
   "cell_type": "code",
   "execution_count": 3,
   "metadata": {
    "collapsed": false,
    "deletable": true,
    "editable": true
   },
   "outputs": [
    {
     "name": "stdout",
     "output_type": "stream",
     "text": [
      "This non-commercial license of GraphLab Create for academic use is assigned to jenarvaezg@gmail.com and will expire on December 12, 2017.\n"
     ]
    },
    {
     "name": "stderr",
     "output_type": "stream",
     "text": [
      "[INFO] graphlab.cython.cy_server: GraphLab Create v2.1 started. Logging: /tmp/graphlab_server_1503231740.log\n"
     ]
    }
   ],
   "source": [
    "taps = graphlab.SFrame.read_csv(\"taps.csv\", verbose=False)"
   ]
  },
  {
   "cell_type": "code",
   "execution_count": 4,
   "metadata": {
    "collapsed": true,
    "deletable": true,
    "editable": true
   },
   "outputs": [],
   "source": [
    "features = [\n",
    "    \"n_accel\",\n",
    "    \n",
    "    \"accel_x_mean\",\n",
    "    \"accel_x_median\",\n",
    "    \"accel_x_var\",\n",
    "    \"accel_x_skewness\",\n",
    "    \"accel_x_kurtosis\",\n",
    "    \"accel_x_diff\",\n",
    "    \n",
    "    \"accel_y_mean\",\n",
    "    \"accel_y_median\",\n",
    "    \"accel_y_skewness\",\n",
    "    \"accel_y_kurtosis\",\n",
    "    \"accel_y_var\",\n",
    "    \"accel_y_diff\",\n",
    "    \n",
    "    \"accel_z_mean\",\n",
    "    \"accel_z_var\",   \n",
    "    \"accel_z_median\",\n",
    "    \"accel_z_skewness\",\n",
    "    \"accel_z_kurtosis\",\n",
    "    \"accel_z_diff\",\n",
    "    \n",
    "    \"n_gyro\",\n",
    "    \n",
    "    \"gyro_x_mean\",\n",
    "    \"gyro_x_median\",\n",
    "    \"gyro_x_var\",\n",
    "    \"gyro_x_skewness\",\n",
    "    \"gyro_x_kurtosis\",\n",
    "    \"gyro_x_diff\",\n",
    "    \n",
    "    \"gyro_y_mean\",\n",
    "    \"gyro_y_median\",\n",
    "    \"gyro_y_var\",\n",
    "    \"gyro_y_skewness\",\n",
    "    \"gyro_y_kurtosis\",\n",
    "    \"gyro_y_diff\",\n",
    "    \n",
    "    \"gyro_z_mean\",\n",
    "    \"gyro_z_median\",\n",
    "    \"gyro_z_var\",\n",
    "    \"gyro_z_skewness\",\n",
    "    \"gyro_z_kurtosis\",\n",
    "    \"gyro_z_diff\",\n",
    "    \n",
    "] \n",
    "\n"
   ]
  },
  {
   "cell_type": "code",
   "execution_count": 5,
   "metadata": {
    "collapsed": false,
    "deletable": true,
    "editable": true
   },
   "outputs": [],
   "source": [
    "train, test = taps.random_split(0.8, seed=1)"
   ]
  },
  {
   "cell_type": "code",
   "execution_count": 6,
   "metadata": {
    "collapsed": false,
    "deletable": true,
    "editable": true
   },
   "outputs": [],
   "source": [
    "noise_model = graphlab.load_model(\"noise_model\")\n",
    "type_model = graphlab.load_model(\"type_model\")\n",
    "touch_model = graphlab.load_model(\"touch_model\")\n",
    "swipe_model = graphlab.load_model(\"swipe_model\")"
   ]
  },
  {
   "cell_type": "code",
   "execution_count": 7,
   "metadata": {
    "collapsed": true,
    "deletable": true,
    "editable": true
   },
   "outputs": [],
   "source": [
    "noise = test[test['noise'] == 1]\n",
    "not_noise = test[test['noise'] == 0]\n",
    "\n",
    "touches = not_noise[not_noise['type'] == \"TOUCH\"]\n",
    "swipes = not_noise[not_noise['type'] == \"SWIPE\"]"
   ]
  },
  {
   "cell_type": "markdown",
   "metadata": {
    "collapsed": false,
    "deletable": true,
    "editable": true
   },
   "source": [
    "# [Ceiling Analysis explained](https://d3c33hcgiwev3.cloudfront.net/19.4-ApplicationExamplePhotoOCR-CeilingAnalysisWhatPartOfThePipelineToWorkOnNext.6acb6550b22b11e49c064db6ead92550/full/540p/index.mp4?Expires=1488067200&Signature=Wlu5B9uRkREYKt0~6bVR~i6Tp5zN6k-uCRjFczQZKDu1dy6a1R55DLNWtknej1AbqtmZccxk8qDUiIJ7kT9U48llZxK1Y1BV2jqHR~iSkYK-pLmqZDCH-bDkEyMgDj-bdckYvqadcFpKj308QhIW8ihdsql-h9ehQx5DlDG5ERs_&Key-Pair-Id=APKAJLTNE6QMUY6HBC5A)"
   ]
  },
  {
   "cell_type": "markdown",
   "metadata": {
    "deletable": true,
    "editable": true
   },
   "source": [
    "# Full model"
   ]
  },
  {
   "cell_type": "code",
   "execution_count": 8,
   "metadata": {
    "collapsed": false,
    "deletable": true,
    "editable": true
   },
   "outputs": [
    {
     "name": "stdout",
     "output_type": "stream",
     "text": [
      "Touch final f1 62.7298311826 %\n",
      "Touch final confusion\n",
      "+---------------+-----------------+-------+\n",
      "|  target_label | predicted_label | count |\n",
      "+---------------+-----------------+-------+\n",
      "|  BOTTOM-LEFT  |   BOTTOM-LEFT   |  1156 |\n",
      "|  CENTER-RIGHT |   CENTER-RIGHT  |  1153 |\n",
      "|  CENTER-LEFT  |   CENTER-LEFT   |  1137 |\n",
      "|    TOP-LEFT   |     TOP-LEFT    |  1130 |\n",
      "| BOTTOM-CENTER |  BOTTOM-CENTER  |  1129 |\n",
      "|   TOP-RIGHT   |    TOP-RIGHT    |  1107 |\n",
      "|  BOTTOM-RIGHT |   BOTTOM-RIGHT  |  1099 |\n",
      "|     CENTER    |      CENTER     |  1089 |\n",
      "|   TOP-CENTER  |    TOP-CENTER   |  1043 |\n",
      "|     NOISE     |   BOTTOM-LEFT   |   49  |\n",
      "+---------------+-----------------+-------+\n",
      "[64 rows x 3 columns]\n",
      "Note: Only the head of the SFrame is printed.\n",
      "You can use print_rows(num_rows=m, num_columns=n) to print more rows and columns.\n",
      "Touch final accuracy 95.9216809933 %\n",
      "Swipe final f1 35.9642778436 %\n",
      "Swipe final confusion\n",
      "+--------------+-----------------+-------+\n",
      "| target_label | predicted_label | count |\n",
      "+--------------+-----------------+-------+\n",
      "| TOP->BOTTOM  |   TOP->BOTTOM   |  2560 |\n",
      "| RIGHT->LEFT  |   RIGHT->LEFT   |  2560 |\n",
      "| LEFT->RIGHT  |   LEFT->RIGHT   |  2531 |\n",
      "| BOTTOM->TOP  |   BOTTOM->TOP   |  2525 |\n",
      "|    NOISE     |   LEFT->RIGHT   |   50  |\n",
      "|    NOISE     |   RIGHT->LEFT   |   42  |\n",
      "|    NOISE     |   TOP->BOTTOM   |   32  |\n",
      "|    NOISE     |   BOTTOM->TOP   |   29  |\n",
      "| CENTER-RIGHT |   LEFT->RIGHT   |   5   |\n",
      "| TOP->BOTTOM  |   BOTTOM->TOP   |   4   |\n",
      "+--------------+-----------------+-------+\n",
      "[30 rows x 3 columns]\n",
      "Note: Only the head of the SFrame is printed.\n",
      "You can use print_rows(num_rows=m, num_columns=n) to print more rows and columns.\n",
      "Swipe final accuracy 98.0630239954 %\n"
     ]
    }
   ],
   "source": [
    "predicted_not_noise = test[noise_model.predict(test) == 0]\n",
    "\n",
    "\n",
    "predicted_touches = predicted_not_noise[type_model.predict(predicted_not_noise) == \"TOUCH\"]\n",
    "predicted_swipes = predicted_not_noise[type_model.predict(predicted_not_noise) == \"SWIPE\"]\n",
    "touch_evaluation = touch_model.evaluate(predicted_touches)\n",
    "swipe_evaluation = swipe_model.evaluate(predicted_swipes)\n",
    "\n",
    "print \"Touch final f1\", touch_evaluation['f1_score']*100, \"%\"\n",
    "print \"Touch final confusion\"\n",
    "print touch_evaluation['confusion_matrix'].sort(\"count\", ascending=False)\n",
    "print \"Touch final accuracy\", touch_evaluation['accuracy']*100, \"%\"\n",
    "\n",
    "print \"Swipe final f1\", swipe_evaluation['f1_score']*100, \"%\"\n",
    "print \"Swipe final confusion\"\n",
    "print swipe_evaluation['confusion_matrix'].sort(\"count\", ascending=False)\n",
    "print \"Swipe final accuracy\", swipe_evaluation['accuracy']*100, \"%\""
   ]
  },
  {
   "cell_type": "markdown",
   "metadata": {
    "collapsed": false,
    "deletable": true,
    "editable": true
   },
   "source": [
    "# When providing real not_noise"
   ]
  },
  {
   "cell_type": "code",
   "execution_count": 9,
   "metadata": {
    "collapsed": false,
    "deletable": true,
    "editable": true
   },
   "outputs": [
    {
     "name": "stdout",
     "output_type": "stream",
     "text": [
      "Touch final f1 68.472966231 %\n",
      "Touch final confusion\n",
      "+---------------+-----------------+-------+\n",
      "|  target_label | predicted_label | count |\n",
      "+---------------+-----------------+-------+\n",
      "|  BOTTOM-LEFT  |   BOTTOM-LEFT   |  1200 |\n",
      "|  CENTER-RIGHT |   CENTER-RIGHT  |  1181 |\n",
      "|  CENTER-LEFT  |   CENTER-LEFT   |  1176 |\n",
      "|    TOP-LEFT   |     TOP-LEFT    |  1156 |\n",
      "| BOTTOM-CENTER |  BOTTOM-CENTER  |  1152 |\n",
      "|   TOP-RIGHT   |    TOP-RIGHT    |  1137 |\n",
      "|     CENTER    |      CENTER     |  1123 |\n",
      "|  BOTTOM-RIGHT |   BOTTOM-RIGHT  |  1119 |\n",
      "|   TOP-CENTER  |    TOP-CENTER   |  1078 |\n",
      "|    TOP-LEFT   |    TOP-CENTER   |   11  |\n",
      "+---------------+-----------------+-------+\n",
      "[63 rows x 3 columns]\n",
      "Note: Only the head of the SFrame is printed.\n",
      "You can use print_rows(num_rows=m, num_columns=n) to print more rows and columns.\n",
      "Touch final accuracy 98.7845726864 %\n",
      "Swipe final f1 39.8129585912 %\n",
      "Swipe final confusion\n",
      "+--------------+-----------------+-------+\n",
      "| target_label | predicted_label | count |\n",
      "+--------------+-----------------+-------+\n",
      "| TOP->BOTTOM  |   TOP->BOTTOM   |  2602 |\n",
      "| RIGHT->LEFT  |   RIGHT->LEFT   |  2602 |\n",
      "| LEFT->RIGHT  |   LEFT->RIGHT   |  2568 |\n",
      "| BOTTOM->TOP  |   BOTTOM->TOP   |  2551 |\n",
      "| TOP->BOTTOM  |   LEFT->RIGHT   |   6   |\n",
      "| CENTER-RIGHT |   LEFT->RIGHT   |   5   |\n",
      "|  TOP-RIGHT   |   LEFT->RIGHT   |   4   |\n",
      "| TOP->BOTTOM  |   RIGHT->LEFT   |   4   |\n",
      "| LEFT->RIGHT  |   RIGHT->LEFT   |   4   |\n",
      "| TOP->BOTTOM  |   BOTTOM->TOP   |   4   |\n",
      "+--------------+-----------------+-------+\n",
      "[32 rows x 3 columns]\n",
      "Note: Only the head of the SFrame is printed.\n",
      "You can use print_rows(num_rows=m, num_columns=n) to print more rows and columns.\n",
      "Swipe final accuracy 99.3647126769 %\n"
     ]
    }
   ],
   "source": [
    "predicted_touches = not_noise[type_model.predict(not_noise) == \"TOUCH\"]\n",
    "predicted_swipes = not_noise[type_model.predict(not_noise) == \"SWIPE\"]\n",
    "touch_evaluation = touch_model.evaluate(predicted_touches)\n",
    "swipe_evaluation = swipe_model.evaluate(predicted_swipes)\n",
    "\n",
    "print \"Touch final f1\", touch_evaluation['f1_score']*100, \"%\"\n",
    "print \"Touch final confusion\"\n",
    "print touch_evaluation['confusion_matrix'].sort(\"count\", ascending=False)\n",
    "print \"Touch final accuracy\", touch_evaluation['accuracy']*100, \"%\"\n",
    "\n",
    "print \"Swipe final f1\", swipe_evaluation['f1_score']*100, \"%\"\n",
    "print \"Swipe final confusion\"\n",
    "print swipe_evaluation['confusion_matrix'].sort(\"count\", ascending=False)\n",
    "print \"Swipe final accuracy\", swipe_evaluation['accuracy']*100, \"%\""
   ]
  },
  {
   "cell_type": "markdown",
   "metadata": {
    "collapsed": false,
    "deletable": true,
    "editable": true
   },
   "source": [
    "# When providing real swipes and touches"
   ]
  },
  {
   "cell_type": "code",
   "execution_count": 10,
   "metadata": {
    "collapsed": false,
    "deletable": true,
    "editable": true
   },
   "outputs": [
    {
     "name": "stdout",
     "output_type": "stream",
     "text": [
      "Touch final f1 98.9466760418 %\n",
      "Touch final confusion\n",
      "+---------------+-----------------+-------+\n",
      "|  target_label | predicted_label | count |\n",
      "+---------------+-----------------+-------+\n",
      "|  BOTTOM-LEFT  |   BOTTOM-LEFT   |  1202 |\n",
      "|  CENTER-RIGHT |   CENTER-RIGHT  |  1190 |\n",
      "|  CENTER-LEFT  |   CENTER-LEFT   |  1176 |\n",
      "| BOTTOM-CENTER |  BOTTOM-CENTER  |  1159 |\n",
      "|    TOP-LEFT   |     TOP-LEFT    |  1156 |\n",
      "|   TOP-RIGHT   |    TOP-RIGHT    |  1140 |\n",
      "|     CENTER    |      CENTER     |  1128 |\n",
      "|  BOTTOM-RIGHT |   BOTTOM-RIGHT  |  1119 |\n",
      "|   TOP-CENTER  |    TOP-CENTER   |  1078 |\n",
      "|    TOP-LEFT   |    TOP-CENTER   |   11  |\n",
      "+---------------+-----------------+-------+\n",
      "[48 rows x 3 columns]\n",
      "Note: Only the head of the SFrame is printed.\n",
      "You can use print_rows(num_rows=m, num_columns=n) to print more rows and columns.\n",
      "Touch final accuracy 98.948173647 %\n",
      "Swipe final f1 99.6726103217 %\n",
      "Swipe final confusion\n",
      "+--------------+-----------------+-------+\n",
      "| target_label | predicted_label | count |\n",
      "+--------------+-----------------+-------+\n",
      "| RIGHT->LEFT  |   RIGHT->LEFT   |  2608 |\n",
      "| TOP->BOTTOM  |   TOP->BOTTOM   |  2603 |\n",
      "| LEFT->RIGHT  |   LEFT->RIGHT   |  2573 |\n",
      "| BOTTOM->TOP  |   BOTTOM->TOP   |  2562 |\n",
      "| TOP->BOTTOM  |   LEFT->RIGHT   |   6   |\n",
      "| TOP->BOTTOM  |   BOTTOM->TOP   |   5   |\n",
      "| LEFT->RIGHT  |   RIGHT->LEFT   |   4   |\n",
      "| TOP->BOTTOM  |   RIGHT->LEFT   |   4   |\n",
      "| RIGHT->LEFT  |   TOP->BOTTOM   |   3   |\n",
      "| LEFT->RIGHT  |   BOTTOM->TOP   |   3   |\n",
      "+--------------+-----------------+-------+\n",
      "[15 rows x 3 columns]\n",
      "Note: Only the head of the SFrame is printed.\n",
      "You can use print_rows(num_rows=m, num_columns=n) to print more rows and columns.\n",
      "Swipe final accuracy 99.6724470135 %\n"
     ]
    }
   ],
   "source": [
    "touch_evaluation = touch_model.evaluate(touches)\n",
    "swipe_evaluation = swipe_model.evaluate(swipes)\n",
    "\n",
    "print \"Touch final f1\", touch_evaluation['f1_score']*100, \"%\"\n",
    "print \"Touch final confusion\"\n",
    "print touch_evaluation['confusion_matrix'].sort(\"count\", ascending=False)\n",
    "print \"Touch final accuracy\", touch_evaluation['accuracy']*100, \"%\"\n",
    "\n",
    "print \"Swipe final f1\", swipe_evaluation['f1_score']*100, \"%\"\n",
    "print \"Swipe final confusion\"\n",
    "print swipe_evaluation['confusion_matrix'].sort(\"count\", ascending=False)\n",
    "print \"Swipe final accuracy\", swipe_evaluation['accuracy']*100, \"%\""
   ]
  }
 ],
 "metadata": {
  "kernelspec": {
   "display_name": "Python 2",
   "language": "python",
   "name": "python2"
  },
  "language_info": {
   "codemirror_mode": {
    "name": "ipython",
    "version": 2
   },
   "file_extension": ".py",
   "mimetype": "text/x-python",
   "name": "python",
   "nbconvert_exporter": "python",
   "pygments_lexer": "ipython2",
   "version": "2.7.12"
  }
 },
 "nbformat": 4,
 "nbformat_minor": 0
}
