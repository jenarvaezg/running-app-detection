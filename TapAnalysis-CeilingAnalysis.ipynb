{
 "cells": [
  {
   "cell_type": "code",
   "execution_count": 1,
   "metadata": {
    "collapsed": true,
    "deletable": true,
    "editable": true
   },
   "outputs": [],
   "source": [
    "import graphlab"
   ]
  },
  {
   "cell_type": "code",
   "execution_count": 2,
   "metadata": {
    "collapsed": false,
    "deletable": true,
    "editable": true
   },
   "outputs": [],
   "source": [
    "graphlab.canvas.set_target('ipynb')"
   ]
  },
  {
   "cell_type": "code",
   "execution_count": 6,
   "metadata": {
    "collapsed": false,
    "deletable": true,
    "editable": true
   },
   "outputs": [],
   "source": [
    "taps = graphlab.SFrame.read_csv(\"taps.csv\", verbose=False)"
   ]
  },
  {
   "cell_type": "code",
   "execution_count": 7,
   "metadata": {
    "collapsed": true,
    "deletable": true,
    "editable": true
   },
   "outputs": [],
   "source": [
    "features = [\n",
    "    \"n_accel\",\n",
    "    \n",
    "    \"accel_x_mean\",\n",
    "    \"accel_x_median\",\n",
    "    \"accel_x_var\",\n",
    "    \"accel_x_skewness\",\n",
    "    \"accel_x_kurtosis\",\n",
    "    \"accel_x_diff\",\n",
    "    \n",
    "    \"accel_y_mean\",\n",
    "    \"accel_y_median\",\n",
    "    \"accel_y_skewness\",\n",
    "    \"accel_y_kurtosis\",\n",
    "    \"accel_y_var\",\n",
    "    \"accel_y_diff\",\n",
    "    \n",
    "    \"accel_z_mean\",\n",
    "    \"accel_z_var\",   \n",
    "    \"accel_z_median\",\n",
    "    \"accel_z_skewness\",\n",
    "    \"accel_z_kurtosis\",\n",
    "    \"accel_z_diff\",\n",
    "    \n",
    "    \"n_gyro\",\n",
    "    \n",
    "    \"gyro_x_mean\",\n",
    "    \"gyro_x_median\",\n",
    "    \"gyro_x_var\",\n",
    "    \"gyro_x_skewness\",\n",
    "    \"gyro_x_kurtosis\",\n",
    "    \"gyro_x_diff\",\n",
    "    \n",
    "    \"gyro_y_mean\",\n",
    "    \"gyro_y_median\",\n",
    "    \"gyro_y_var\",\n",
    "    \"gyro_y_skewness\",\n",
    "    \"gyro_y_kurtosis\",\n",
    "    \"gyro_y_diff\",\n",
    "    \n",
    "    \"gyro_z_mean\",\n",
    "    \"gyro_z_median\",\n",
    "    \"gyro_z_var\",\n",
    "    \"gyro_z_skewness\",\n",
    "    \"gyro_z_kurtosis\",\n",
    "    \"gyro_z_diff\",\n",
    "    \n",
    "] \n",
    "\n"
   ]
  },
  {
   "cell_type": "code",
   "execution_count": 8,
   "metadata": {
    "collapsed": false,
    "deletable": true,
    "editable": true
   },
   "outputs": [],
   "source": [
    "train, test = taps.random_split(0.8, seed=1)"
   ]
  },
  {
   "cell_type": "code",
   "execution_count": 12,
   "metadata": {
    "collapsed": false,
    "deletable": true,
    "editable": true
   },
   "outputs": [],
   "source": [
    "noise_model = graphlab.load_model(\"noise_model\")\n",
    "type_model = graphlab.load_model(\"type_model\")\n",
    "touch_model = graphlab.load_model(\"touch_model\")\n",
    "swipe_model = graphlab.load_model(\"swipe_model\")"
   ]
  },
  {
   "cell_type": "code",
   "execution_count": 13,
   "metadata": {
    "collapsed": true,
    "deletable": true,
    "editable": true
   },
   "outputs": [],
   "source": [
    "noise = test[test['noise'] == 1]\n",
    "not_noise = test[test['noise'] == 0]\n",
    "\n",
    "touches = not_noise[not_noise['type'] == \"TOUCH\"]\n",
    "swipes = not_noise[not_noise['type'] == \"SWIPE\"]"
   ]
  },
  {
   "cell_type": "markdown",
   "metadata": {
    "collapsed": false,
    "deletable": true,
    "editable": true
   },
   "source": [
    "# [Ceiling Analysis explained](https://d3c33hcgiwev3.cloudfront.net/19.4-ApplicationExamplePhotoOCR-CeilingAnalysisWhatPartOfThePipelineToWorkOnNext.6acb6550b22b11e49c064db6ead92550/full/540p/index.mp4?Expires=1488067200&Signature=Wlu5B9uRkREYKt0~6bVR~i6Tp5zN6k-uCRjFczQZKDu1dy6a1R55DLNWtknej1AbqtmZccxk8qDUiIJ7kT9U48llZxK1Y1BV2jqHR~iSkYK-pLmqZDCH-bDkEyMgDj-bdckYvqadcFpKj308QhIW8ihdsql-h9ehQx5DlDG5ERs_&Key-Pair-Id=APKAJLTNE6QMUY6HBC5A)"
   ]
  },
  {
   "cell_type": "markdown",
   "metadata": {
    "deletable": true,
    "editable": true
   },
   "source": [
    "# Full model"
   ]
  },
  {
   "cell_type": "code",
   "execution_count": 17,
   "metadata": {
    "collapsed": false,
    "deletable": true,
    "editable": true
   },
   "outputs": [
    {
     "name": "stdout",
     "output_type": "stream",
     "text": [
      "Touch final f1 62.8153508669 %\n",
      "Touch final confusion\n",
      "+---------------+-----------------+-------+\n",
      "|  target_label | predicted_label | count |\n",
      "+---------------+-----------------+-------+\n",
      "|     CENTER    |      CENTER     |  829  |\n",
      "|  CENTER-RIGHT |   CENTER-RIGHT  |  828  |\n",
      "|  BOTTOM-RIGHT |   BOTTOM-RIGHT  |  809  |\n",
      "| BOTTOM-CENTER |  BOTTOM-CENTER  |  728  |\n",
      "|  BOTTOM-LEFT  |   BOTTOM-LEFT   |  629  |\n",
      "|  CENTER-LEFT  |   CENTER-LEFT   |  613  |\n",
      "|   TOP-RIGHT   |    TOP-RIGHT    |  370  |\n",
      "|    TOP-LEFT   |     TOP-LEFT    |  301  |\n",
      "|   TOP-CENTER  |    TOP-CENTER   |  279  |\n",
      "|     NOISE     |   CENTER-RIGHT  |   35  |\n",
      "+---------------+-----------------+-------+\n",
      "[46 rows x 3 columns]\n",
      "Note: Only the head of the SFrame is printed.\n",
      "You can use print_rows(num_rows=m, num_columns=n) to print more rows and columns.\n",
      "Touch final accuracy 95.9900196043 %\n",
      "Swipe final f1 36.0294069103 %\n",
      "Swipe final confusion\n",
      "+--------------+-----------------+-------+\n",
      "| target_label | predicted_label | count |\n",
      "+--------------+-----------------+-------+\n",
      "| BOTTOM->TOP  |   BOTTOM->TOP   |  2295 |\n",
      "| TOP->BOTTOM  |   TOP->BOTTOM   |  2130 |\n",
      "| LEFT->RIGHT  |   LEFT->RIGHT   |  1373 |\n",
      "| RIGHT->LEFT  |   RIGHT->LEFT   |  1231 |\n",
      "|    NOISE     |   TOP->BOTTOM   |   27  |\n",
      "|    NOISE     |   LEFT->RIGHT   |   26  |\n",
      "|    NOISE     |   BOTTOM->TOP   |   18  |\n",
      "|    NOISE     |   RIGHT->LEFT   |   11  |\n",
      "| LEFT->RIGHT  |   RIGHT->LEFT   |   3   |\n",
      "| CENTER-RIGHT |   LEFT->RIGHT   |   3   |\n",
      "+--------------+-----------------+-------+\n",
      "[26 rows x 3 columns]\n",
      "Note: Only the head of the SFrame is printed.\n",
      "You can use print_rows(num_rows=m, num_columns=n) to print more rows and columns.\n",
      "Swipe final accuracy 98.4178101372 %\n"
     ]
    }
   ],
   "source": [
    "predicted_not_noise = test[noise_model.predict(test) == 0]\n",
    "\n",
    "\n",
    "predicted_touches = predicted_not_noise[type_model.predict(predicted_not_noise) == \"TOUCH\"]\n",
    "predicted_swipes = predicted_not_noise[type_model.predict(predicted_not_noise) == \"SWIPE\"]\n",
    "touch_evaluation = touch_model.evaluate(predicted_touches)\n",
    "swipe_evaluation = swipe_model.evaluate(predicted_swipes)\n",
    "\n",
    "print \"Touch final f1\", touch_evaluation['f1_score']*100, \"%\"\n",
    "print \"Touch final confusion\"\n",
    "print touch_evaluation['confusion_matrix'].sort(\"count\", ascending=False)\n",
    "print \"Touch final accuracy\", touch_evaluation['accuracy']*100, \"%\"\n",
    "\n",
    "print \"Swipe final f1\", swipe_evaluation['f1_score']*100, \"%\"\n",
    "print \"Swipe final confusion\"\n",
    "print swipe_evaluation['confusion_matrix'].sort(\"count\", ascending=False)\n",
    "print \"Swipe final accuracy\", swipe_evaluation['accuracy']*100, \"%\""
   ]
  },
  {
   "cell_type": "markdown",
   "metadata": {
    "collapsed": false,
    "deletable": true,
    "editable": true
   },
   "source": [
    "# When providing real not_noise"
   ]
  },
  {
   "cell_type": "code",
   "execution_count": 20,
   "metadata": {
    "collapsed": false,
    "deletable": true,
    "editable": true
   },
   "outputs": [
    {
     "name": "stdout",
     "output_type": "stream",
     "text": [
      "Touch final f1 68.3835738917 %\n",
      "Touch final confusion\n",
      "+---------------+-----------------+-------+\n",
      "|  target_label | predicted_label | count |\n",
      "+---------------+-----------------+-------+\n",
      "|     CENTER    |      CENTER     |  851  |\n",
      "|  CENTER-RIGHT |   CENTER-RIGHT  |  848  |\n",
      "|  BOTTOM-RIGHT |   BOTTOM-RIGHT  |  820  |\n",
      "| BOTTOM-CENTER |  BOTTOM-CENTER  |  742  |\n",
      "|  BOTTOM-LEFT  |   BOTTOM-LEFT   |  648  |\n",
      "|  CENTER-LEFT  |   CENTER-LEFT   |  637  |\n",
      "|   TOP-RIGHT   |    TOP-RIGHT    |  379  |\n",
      "|    TOP-LEFT   |     TOP-LEFT    |  307  |\n",
      "|   TOP-CENTER  |    TOP-CENTER   |  285  |\n",
      "|   TOP-RIGHT   |   CENTER-RIGHT  |   9   |\n",
      "+---------------+-----------------+-------+\n",
      "[44 rows x 3 columns]\n",
      "Note: Only the head of the SFrame is printed.\n",
      "You can use print_rows(num_rows=m, num_columns=n) to print more rows and columns.\n",
      "Touch final accuracy 98.6940966011 %\n",
      "Swipe final f1 36.1978551823 %\n",
      "Swipe final confusion\n",
      "+---------------+-----------------+-------+\n",
      "|  target_label | predicted_label | count |\n",
      "+---------------+-----------------+-------+\n",
      "|  BOTTOM->TOP  |   BOTTOM->TOP   |  2315 |\n",
      "|  TOP->BOTTOM  |   TOP->BOTTOM   |  2163 |\n",
      "|  LEFT->RIGHT  |   LEFT->RIGHT   |  1388 |\n",
      "|  RIGHT->LEFT  |   RIGHT->LEFT   |  1245 |\n",
      "|  CENTER-RIGHT |   BOTTOM->TOP   |   3   |\n",
      "|  TOP->BOTTOM  |   BOTTOM->TOP   |   3   |\n",
      "|  BOTTOM-LEFT  |   RIGHT->LEFT   |   3   |\n",
      "| BOTTOM-CENTER |   LEFT->RIGHT   |   3   |\n",
      "|  LEFT->RIGHT  |   RIGHT->LEFT   |   3   |\n",
      "|  CENTER-RIGHT |   LEFT->RIGHT   |   3   |\n",
      "+---------------+-----------------+-------+\n",
      "[28 rows x 3 columns]\n",
      "Note: Only the head of the SFrame is printed.\n",
      "You can use print_rows(num_rows=m, num_columns=n) to print more rows and columns.\n",
      "Swipe final accuracy 99.3850454228 %\n"
     ]
    }
   ],
   "source": [
    "predicted_touches = not_noise[type_model.predict(not_noise) == \"TOUCH\"]\n",
    "predicted_swipes = not_noise[type_model.predict(not_noise) == \"SWIPE\"]\n",
    "touch_evaluation = touch_model.evaluate(predicted_touches)\n",
    "swipe_evaluation = swipe_model.evaluate(predicted_swipes)\n",
    "\n",
    "print \"Touch final f1\", touch_evaluation['f1_score']*100, \"%\"\n",
    "print \"Touch final confusion\"\n",
    "print touch_evaluation['confusion_matrix'].sort(\"count\", ascending=False)\n",
    "print \"Touch final accuracy\", touch_evaluation['accuracy']*100, \"%\"\n",
    "\n",
    "print \"Swipe final f1\", swipe_evaluation['f1_score']*100, \"%\"\n",
    "print \"Swipe final confusion\"\n",
    "print swipe_evaluation['confusion_matrix'].sort(\"count\", ascending=False)\n",
    "print \"Swipe final accuracy\", swipe_evaluation['accuracy']*100, \"%\""
   ]
  },
  {
   "cell_type": "markdown",
   "metadata": {
    "collapsed": false,
    "deletable": true,
    "editable": true
   },
   "source": [
    "# When providing real swipes and touches"
   ]
  },
  {
   "cell_type": "code",
   "execution_count": 22,
   "metadata": {
    "collapsed": false,
    "deletable": true,
    "editable": true
   },
   "outputs": [
    {
     "name": "stdout",
     "output_type": "stream",
     "text": [
      "Touch final f1 98.8617534799 %\n",
      "Touch final confusion\n",
      "+---------------+-----------------+-------+\n",
      "|  target_label | predicted_label | count |\n",
      "+---------------+-----------------+-------+\n",
      "|     CENTER    |      CENTER     |  857  |\n",
      "|  CENTER-RIGHT |   CENTER-RIGHT  |  856  |\n",
      "|  BOTTOM-RIGHT |   BOTTOM-RIGHT  |  820  |\n",
      "| BOTTOM-CENTER |  BOTTOM-CENTER  |  746  |\n",
      "|  BOTTOM-LEFT  |   BOTTOM-LEFT   |  651  |\n",
      "|  CENTER-LEFT  |   CENTER-LEFT   |  639  |\n",
      "|   TOP-RIGHT   |    TOP-RIGHT    |  380  |\n",
      "|    TOP-LEFT   |     TOP-LEFT    |  307  |\n",
      "|   TOP-CENTER  |    TOP-CENTER   |  285  |\n",
      "|   TOP-RIGHT   |   CENTER-RIGHT  |   9   |\n",
      "+---------------+-----------------+-------+\n",
      "[35 rows x 3 columns]\n",
      "Note: Only the head of the SFrame is printed.\n",
      "You can use print_rows(num_rows=m, num_columns=n) to print more rows and columns.\n",
      "Touch final accuracy 98.9641007323 %\n",
      "Swipe final f1 99.7371684176 %\n",
      "Swipe final confusion\n",
      "+--------------+-----------------+-------+\n",
      "| target_label | predicted_label | count |\n",
      "+--------------+-----------------+-------+\n",
      "| BOTTOM->TOP  |   BOTTOM->TOP   |  2324 |\n",
      "| TOP->BOTTOM  |   TOP->BOTTOM   |  2165 |\n",
      "| LEFT->RIGHT  |   LEFT->RIGHT   |  1391 |\n",
      "| RIGHT->LEFT  |   RIGHT->LEFT   |  1248 |\n",
      "| TOP->BOTTOM  |   BOTTOM->TOP   |   3   |\n",
      "| LEFT->RIGHT  |   RIGHT->LEFT   |   3   |\n",
      "| RIGHT->LEFT  |   TOP->BOTTOM   |   2   |\n",
      "| BOTTOM->TOP  |   RIGHT->LEFT   |   2   |\n",
      "| LEFT->RIGHT  |   BOTTOM->TOP   |   2   |\n",
      "| BOTTOM->TOP  |   TOP->BOTTOM   |   2   |\n",
      "+--------------+-----------------+-------+\n",
      "[13 rows x 3 columns]\n",
      "Note: Only the head of the SFrame is printed.\n",
      "You can use print_rows(num_rows=m, num_columns=n) to print more rows and columns.\n",
      "Swipe final accuracy 99.7481108312 %\n"
     ]
    }
   ],
   "source": [
    "touch_evaluation = touch_model.evaluate(touches)\n",
    "swipe_evaluation = swipe_model.evaluate(swipes)\n",
    "\n",
    "print \"Touch final f1\", touch_evaluation['f1_score']*100, \"%\"\n",
    "print \"Touch final confusion\"\n",
    "print touch_evaluation['confusion_matrix'].sort(\"count\", ascending=False)\n",
    "print \"Touch final accuracy\", touch_evaluation['accuracy']*100, \"%\"\n",
    "\n",
    "print \"Swipe final f1\", swipe_evaluation['f1_score']*100, \"%\"\n",
    "print \"Swipe final confusion\"\n",
    "print swipe_evaluation['confusion_matrix'].sort(\"count\", ascending=False)\n",
    "print \"Swipe final accuracy\", swipe_evaluation['accuracy']*100, \"%\""
   ]
  },
  {
   "cell_type": "code",
   "execution_count": null,
   "metadata": {
    "collapsed": true,
    "deletable": true,
    "editable": true
   },
   "outputs": [],
   "source": []
  }
 ],
 "metadata": {
  "kernelspec": {
   "display_name": "Python 2",
   "language": "python",
   "name": "python2"
  },
  "language_info": {
   "codemirror_mode": {
    "name": "ipython",
    "version": 2
   },
   "file_extension": ".py",
   "mimetype": "text/x-python",
   "name": "python",
   "nbconvert_exporter": "python",
   "pygments_lexer": "ipython2",
   "version": "2.7.12"
  }
 },
 "nbformat": 4,
 "nbformat_minor": 0
}
