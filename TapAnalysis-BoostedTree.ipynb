{
 "cells": [
  {
   "cell_type": "code",
   "execution_count": 1,
   "metadata": {
    "collapsed": true,
    "deletable": true,
    "editable": true
   },
   "outputs": [],
   "source": [
    "import graphlab"
   ]
  },
  {
   "cell_type": "code",
   "execution_count": 2,
   "metadata": {
    "collapsed": false,
    "deletable": true,
    "editable": true
   },
   "outputs": [],
   "source": [
    "graphlab.canvas.set_target('ipynb')"
   ]
  },
  {
   "cell_type": "code",
   "execution_count": 66,
   "metadata": {
    "collapsed": false,
    "deletable": true,
    "editable": true
   },
   "outputs": [
    {
     "data": {
      "application/javascript": [
       "$(\"head\").append($(\"<link/>\").attr({\n",
       "  rel:  \"stylesheet\",\n",
       "  type: \"text/css\",\n",
       "  href: \"//cdnjs.cloudflare.com/ajax/libs/font-awesome/4.1.0/css/font-awesome.min.css\"\n",
       "}));\n",
       "$(\"head\").append($(\"<link/>\").attr({\n",
       "  rel:  \"stylesheet\",\n",
       "  type: \"text/css\",\n",
       "  href: \"https://static.turi.com/products/graphlab-create/2.1/canvas/css/canvas.css\"\n",
       "}));\n",
       "\n",
       "            (function(){\n",
       "\n",
       "                var e = null;\n",
       "                if (typeof element == 'undefined') {\n",
       "                    var scripts = document.getElementsByTagName('script');\n",
       "                    var thisScriptTag = scripts[scripts.length-1];\n",
       "                    var parentDiv = thisScriptTag.parentNode;\n",
       "                    e = document.createElement('div');\n",
       "                    parentDiv.appendChild(e);\n",
       "                } else {\n",
       "                    e = element[0];\n",
       "                }\n",
       "\n",
       "                if (typeof requirejs !== 'undefined') {\n",
       "                    // disable load timeout; ipython_app.js is large and can take a while to load.\n",
       "                    requirejs.config({waitSeconds: 0});\n",
       "                }\n",
       "\n",
       "                require(['https://static.turi.com/products/graphlab-create/2.1/canvas/js/ipython_app.js'], function(IPythonApp){\n",
       "                    var app = new IPythonApp();\n",
       "                    app.attachView('sarray','Categorical', {\"ipython\": true, \"sketch\": {\"complete\": true, \"numeric\": false, \"num_unique\": 9, \"num_undefined\": 0, \"progress\": 1.0, \"frequent_items\": {\"CENTER-LEFT\": {\"frequency\": 5803, \"value\": \"CENTER-LEFT\"}, \"CENTER\": {\"frequency\": 5812, \"value\": \"CENTER\"}, \"BOTTOM-CENTER\": {\"frequency\": 5784, \"value\": \"BOTTOM-CENTER\"}, \"CENTER-RIGHT\": {\"frequency\": 5822, \"value\": \"CENTER-RIGHT\"}, \"BOTTOM-RIGHT\": {\"frequency\": 5827, \"value\": \"BOTTOM-RIGHT\"}, \"BOTTOM-LEFT\": {\"frequency\": 5724, \"value\": \"BOTTOM-LEFT\"}, \"TOP-CENTER\": {\"frequency\": 5750, \"value\": \"TOP-CENTER\"}, \"TOP-RIGHT\": {\"frequency\": 5791, \"value\": \"TOP-RIGHT\"}, \"TOP-LEFT\": {\"frequency\": 5722, \"value\": \"TOP-LEFT\"}}, \"size\": 52035}, \"selected_variable\": {\"name\": [\"<SArray>\"], \"dtype\": \"str\", \"view_component\": \"Categorical\", \"view_file\": \"sarray\", \"descriptives\": {\"rows\": 52035}, \"type\": \"SArray\", \"view_components\": [\"Categorical\"]}, \"histogram\": null}, e);\n",
       "                });\n",
       "            })();\n",
       "        "
      ]
     },
     "metadata": {},
     "output_type": "display_data"
    },
    {
     "data": {
      "application/javascript": [
       "$(\"head\").append($(\"<link/>\").attr({\n",
       "  rel:  \"stylesheet\",\n",
       "  type: \"text/css\",\n",
       "  href: \"//cdnjs.cloudflare.com/ajax/libs/font-awesome/4.1.0/css/font-awesome.min.css\"\n",
       "}));\n",
       "$(\"head\").append($(\"<link/>\").attr({\n",
       "  rel:  \"stylesheet\",\n",
       "  type: \"text/css\",\n",
       "  href: \"https://static.turi.com/products/graphlab-create/2.1/canvas/css/canvas.css\"\n",
       "}));\n",
       "\n",
       "            (function(){\n",
       "\n",
       "                var e = null;\n",
       "                if (typeof element == 'undefined') {\n",
       "                    var scripts = document.getElementsByTagName('script');\n",
       "                    var thisScriptTag = scripts[scripts.length-1];\n",
       "                    var parentDiv = thisScriptTag.parentNode;\n",
       "                    e = document.createElement('div');\n",
       "                    parentDiv.appendChild(e);\n",
       "                } else {\n",
       "                    e = element[0];\n",
       "                }\n",
       "\n",
       "                if (typeof requirejs !== 'undefined') {\n",
       "                    // disable load timeout; ipython_app.js is large and can take a while to load.\n",
       "                    requirejs.config({waitSeconds: 0});\n",
       "                }\n",
       "\n",
       "                require(['https://static.turi.com/products/graphlab-create/2.1/canvas/js/ipython_app.js'], function(IPythonApp){\n",
       "                    var app = new IPythonApp();\n",
       "                    app.attachView('sarray','Categorical', {\"ipython\": true, \"sketch\": {\"complete\": true, \"numeric\": false, \"num_unique\": 4, \"num_undefined\": 0, \"progress\": 1.0, \"frequent_items\": {\"LEFT->RIGHT\": {\"frequency\": 12902, \"value\": \"LEFT->RIGHT\"}, \"BOTTOM->TOP\": {\"frequency\": 12980, \"value\": \"BOTTOM->TOP\"}, \"TOP->BOTTOM\": {\"frequency\": 13087, \"value\": \"TOP->BOTTOM\"}, \"RIGHT->LEFT\": {\"frequency\": 12957, \"value\": \"RIGHT->LEFT\"}}, \"size\": 51926}, \"selected_variable\": {\"name\": [\"<SArray>\"], \"dtype\": \"str\", \"view_component\": \"Categorical\", \"view_file\": \"sarray\", \"descriptives\": {\"rows\": 51926}, \"type\": \"SArray\", \"view_components\": [\"Categorical\"]}, \"histogram\": null}, e);\n",
       "                });\n",
       "            })();\n",
       "        "
      ]
     },
     "metadata": {},
     "output_type": "display_data"
    }
   ],
   "source": [
    "taps = graphlab.SFrame.read_csv(\"taps.csv\", verbose=False)\n",
    "taps[taps['type'] == \"TOUCH\"]['action'].show()\n",
    "taps[taps['type'] == \"SWIPE\"]['action'].show()"
   ]
  },
  {
   "cell_type": "code",
   "execution_count": 67,
   "metadata": {
    "collapsed": true,
    "deletable": true,
    "editable": true
   },
   "outputs": [],
   "source": [
    "features = [\n",
    "    \"n_accel\",\n",
    "    \n",
    "    \"accel_x_mean\",\n",
    "    \"accel_x_median\",\n",
    "    \"accel_x_var\",\n",
    "    \"accel_x_skewness\",\n",
    "    \"accel_x_kurtosis\",\n",
    "    \"accel_x_diff\",\n",
    "    \n",
    "    \"accel_y_mean\",\n",
    "    \"accel_y_median\",\n",
    "    \"accel_y_skewness\",\n",
    "    \"accel_y_kurtosis\",\n",
    "    \"accel_y_var\",\n",
    "    \"accel_y_diff\",\n",
    "    \n",
    "    \"accel_z_mean\",\n",
    "    \"accel_z_var\",   \n",
    "    \"accel_z_median\",\n",
    "    \"accel_z_skewness\",\n",
    "    \"accel_z_kurtosis\",\n",
    "    \"accel_z_diff\",\n",
    "    \n",
    "    \"n_gyro\",\n",
    "    \n",
    "    \"gyro_x_mean\",\n",
    "    \"gyro_x_median\",\n",
    "    \"gyro_x_var\",\n",
    "    \"gyro_x_skewness\",\n",
    "    \"gyro_x_kurtosis\",\n",
    "    \"gyro_x_diff\",\n",
    "    \n",
    "    \"gyro_y_mean\",\n",
    "    \"gyro_y_median\",\n",
    "    \"gyro_y_var\",\n",
    "    \"gyro_y_skewness\",\n",
    "    \"gyro_y_kurtosis\",\n",
    "    \"gyro_y_diff\",\n",
    "    \n",
    "    \"gyro_z_mean\",\n",
    "    \"gyro_z_median\",\n",
    "    \"gyro_z_var\",\n",
    "    \"gyro_z_skewness\",\n",
    "    \"gyro_z_kurtosis\",\n",
    "    \"gyro_z_diff\",\n",
    "    \n",
    "] \n",
    "\n"
   ]
  },
  {
   "cell_type": "code",
   "execution_count": 68,
   "metadata": {
    "collapsed": false,
    "deletable": true,
    "editable": true
   },
   "outputs": [],
   "source": [
    "train, test = taps.random_split(0.8, seed=1)\n"
   ]
  },
  {
   "cell_type": "code",
   "execution_count": 69,
   "metadata": {
    "collapsed": false,
    "deletable": true,
    "editable": true
   },
   "outputs": [],
   "source": [
    "not_noise_train = train[train['noise'] == 0]\n",
    "not_noise_test = test[test['noise'] == 0]\n",
    "\n",
    "noise_train = train[train['noise'] == 1]\n",
    "noise_test = test[test['noise'] == 1]"
   ]
  },
  {
   "cell_type": "code",
   "execution_count": 70,
   "metadata": {
    "collapsed": false,
    "deletable": true,
    "editable": true
   },
   "outputs": [],
   "source": [
    "train_touchs = not_noise_train[not_noise_train['type'] == \"TOUCH\"]\n",
    "train_swipes = not_noise_train[not_noise_train['type'] == \"SWIPE\"]\n",
    "test_touchs = not_noise_test[not_noise_test['type'] == \"TOUCH\"]\n",
    "test_swipes = not_noise_test[not_noise_test['type'] == \"SWIPE\"]"
   ]
  },
  {
   "cell_type": "markdown",
   "metadata": {
    "deletable": true,
    "editable": true
   },
   "source": [
    "# Let's focus on boosted trees."
   ]
  },
  {
   "cell_type": "code",
   "execution_count": 71,
   "metadata": {
    "collapsed": false,
    "deletable": true,
    "editable": true
   },
   "outputs": [],
   "source": [
    "k_fold = graphlab.cross_validation.KFold(graphlab.cross_validation.shuffle(train), 5)"
   ]
  },
  {
   "cell_type": "code",
   "execution_count": 77,
   "metadata": {
    "collapsed": false,
    "deletable": true,
    "editable": true
   },
   "outputs": [],
   "source": [
    "def f1_score(model, data):\n",
    "    return model.evaluate(data, metric='f1_score')['f1_score']\n",
    "\n",
    "def accuracy(model, data):\n",
    "    return model.evaluate(data, metric='accuracy')['accuracy']\n",
    "\n",
    "def get_cross_val_score(k_fold, model_factory, model_params, metric_f):\n",
    "    val_errors = []\n",
    "    train_errors = []\n",
    "    for train, valid in k_fold:\n",
    "        m = model_factory(train, **model_params)\n",
    "        val_errors.append(metric_f(m, valid))\n",
    "        train_errors.append(metric_f(m, train))\n",
    "    return sum(train_errors)/float(len(train_errors)), sum(val_errors)/float(len(val_errors))\n",
    "\n",
    "\n",
    "def get_best_max_iterations(k_fold, max_iterations_a, model_factory, model_params, metric_f, plot=True):\n",
    "    val_a = []\n",
    "    train_a = []\n",
    "    for max_iterations in max_iterations_a:\n",
    "        model_params['max_iterations'] = max_iterations\n",
    "        train_e, val_e = get_cross_val_score(k_fold, model_factory, model_params, metric_f)\n",
    "        val_a.append(val_e)\n",
    "        train_a.append(train_e)\n",
    "        print \"At iterations:\", max_iterations, val_e, train_e\n",
    "    if plot:\n",
    "        %matplotlib inline\n",
    "\n",
    "        import matplotlib\n",
    "        import numpy as np\n",
    "        import matplotlib.pyplot as plt\n",
    "\n",
    "        plt.plot(max_iterations_a, val_a)\n",
    "        plt.plot(max_iterations_a, train_a)\n",
    "    if metric_f == f1_score or metric_f == accuracy:\n",
    "        return max_iterations_a[val_a.index(max(val_a))], max(val_a)\n",
    "    return max_iterations_a[val_a.index(min(val_a))], min(val_a)\n",
    "\n",
    "def get_best_depth(k_fold, depths, model_factory, model_params, metric_f, plot=True):\n",
    "    val_a = []\n",
    "    train_a = []\n",
    "    for depth in depths:\n",
    "        model_params['max_depth'] = depth\n",
    "        train_e, val_e = get_cross_val_score(k_fold, model_factory, model_params, metric_f)\n",
    "        val_a.append(val_e)\n",
    "        train_a.append(train_e)\n",
    "        print \"At depth:\", depth, val_e, train_e\n",
    "    if plot:\n",
    "        %matplotlib inline\n",
    "\n",
    "        import matplotlib\n",
    "        import numpy as np\n",
    "        import matplotlib.pyplot as plt\n",
    "\n",
    "        plt.plot(depths, val_a)\n",
    "        plt.plot(depths, train_a)\n",
    "    if metric_f == f1_score or metric_f == accuracy:\n",
    "        return depths[val_a.index(max(val_a))], max(val_a)\n",
    "    return depths[val_a.index(min(val_a))], min(val_a)"
   ]
  },
  {
   "cell_type": "code",
   "execution_count": 78,
   "metadata": {
    "collapsed": false,
    "deletable": true,
    "editable": true
   },
   "outputs": [
    {
     "name": "stdout",
     "output_type": "stream",
     "text": [
      "At iterations: 5 0.668194260236 0.668597793267\n",
      "At iterations: 10 0.705347518131 0.70654541863\n",
      "At iterations: 20 0.72586279877 0.726731946835\n",
      "At iterations: 40 0.737590653836 0.738962101758\n",
      "At iterations: 80 0.748900866326 0.749788356802\n",
      "At iterations: 160 0.756570815814 0.757599401755\n",
      "At iterations: 320 0.763337754325 0.764841831984\n",
      "At iterations: 640 0.768710669639 0.770949854672\n"
     ]
    },
    {
     "data": {
      "image/png": "[encoded data removed]",
      "text/plain": [
       "<matplotlib.figure.Figure at 0x7f5ec4044290>"
      ]
     },
     "metadata": {},
     "output_type": "display_data"
    }
   ],
   "source": [
    "max_iterations_a = [5, 10, 20, 40, 80, 160, 320, 640]\n",
    "model_params = dict([('target', 'noise'), ('features', features), ('verbose', False), ('validation_set', None),\n",
    "                    ('max_depth', 1)])\n",
    "model_factory = graphlab.boosted_trees_classifier.create\n",
    "noise_max_iterations = get_best_max_iterations(k_fold, max_iterations_a, model_factory, model_params, accuracy)"
   ]
  },
  {
   "cell_type": "code",
   "execution_count": 79,
   "metadata": {
    "collapsed": false,
    "deletable": true,
    "editable": true
   },
   "outputs": [
    {
     "name": "stdout",
     "output_type": "stream",
     "text": [
      "At depth: 1 0.768710669639 0.770949854672\n",
      "At depth: 2 0.831622315659 0.840073934024\n",
      "At depth: 3 0.870762197703 0.890265823856\n",
      "At depth: 4 0.909783559556 0.940058413523\n",
      "At depth: 5 0.939458757796 0.976218359342\n",
      "At depth: 6 0.957874537912 0.994686344781\n",
      "At depth: 7 0.967350509355 0.999602110788\n",
      "At depth: 8 0.97089482744 0.999994356181\n",
      "At depth: 9 0.97239608319 1.0\n"
     ]
    },
    {
     "data": {
      "image/png": "[encoded data removed]",
      "text/plain": [
       "<matplotlib.figure.Figure at 0x7f5ec40ba9d0>"
      ]
     },
     "metadata": {},
     "output_type": "display_data"
    }
   ],
   "source": [
    "depths = range(1,10)\n",
    "model_params['max_iterations'] = noise_max_iterations[0]\n",
    "noise_max_depth = get_best_depth(k_fold, depths, model_factory, model_params, accuracy)"
   ]
  },
  {
   "cell_type": "code",
   "execution_count": 80,
   "metadata": {
    "collapsed": false,
    "deletable": true,
    "editable": true
   },
   "outputs": [],
   "source": [
    "train_set_to_use = train\n",
    "max_depth_to_use = noise_max_depth[0]\n",
    "max_iterations_to_use = noise_max_iterations[0]\n",
    "\n",
    "optimized_noise_classifier = graphlab.boosted_trees_classifier.create(train_set_to_use, target='noise', \n",
    "                                                                      features=features,\n",
    "                                                                      max_depth=max_depth_to_use, \n",
    "                                                                      max_iterations=max_iterations_to_use,\n",
    "                                                                      validation_set=None,\n",
    "                                                                      verbose=False)"
   ]
  },
  {
   "cell_type": "code",
   "execution_count": 81,
   "metadata": {
    "collapsed": false,
    "deletable": true,
    "editable": true
   },
   "outputs": [
    {
     "name": "stdout",
     "output_type": "stream",
     "text": [
      "{'f1_score': 0.9796506087877184, 'auc': 0.9971727947031478, 'recall': 0.979463945463014, 'precision': 0.9798373432734666, 'log_loss': 0.06388816759374655, 'roc_curve': Columns:\n",
      "\tthreshold\tfloat\n",
      "\tfpr\tfloat\n",
      "\ttpr\tfloat\n",
      "\tp\tint\n",
      "\tn\tint\n",
      "\n",
      "Rows: 100001\n",
      "\n",
      "Data:\n",
      "+-----------+----------------+----------------+-------+-------+\n",
      "| threshold |      fpr       |      tpr       |   p   |   n   |\n",
      "+-----------+----------------+----------------+-------+-------+\n",
      "|    0.0    |      1.0       |      1.0       | 23617 | 20838 |\n",
      "|   1e-05   | 0.912467607256 |      1.0       | 23617 | 20838 |\n",
      "|   2e-05   | 0.87997888473  | 0.99995765762  | 23617 | 20838 |\n",
      "|   3e-05   | 0.857855840292 | 0.99995765762  | 23617 | 20838 |\n",
      "|   4e-05   | 0.839811882138 | 0.99995765762  | 23617 | 20838 |\n",
      "|   5e-05   | 0.822727708993 | 0.99995765762  | 23617 | 20838 |\n",
      "|   6e-05   | 0.808810826375 | 0.99995765762  | 23617 | 20838 |\n",
      "|   7e-05   | 0.798493137537 | 0.99995765762  | 23617 | 20838 |\n",
      "|   8e-05   | 0.787839523947 | 0.99995765762  | 23617 | 20838 |\n",
      "|   9e-05   | 0.778625587868 | 0.999915315239 | 23617 | 20838 |\n",
      "+-----------+----------------+----------------+-------+-------+\n",
      "[100001 rows x 5 columns]\n",
      "Note: Only the head of the SFrame is printed.\n",
      "You can use print_rows(num_rows=m, num_columns=n) to print more rows and columns., 'confusion_matrix': Columns:\n",
      "\ttarget_label\tint\n",
      "\tpredicted_label\tint\n",
      "\tcount\tint\n",
      "\n",
      "Rows: 4\n",
      "\n",
      "Data:\n",
      "+--------------+-----------------+-------+\n",
      "| target_label | predicted_label | count |\n",
      "+--------------+-----------------+-------+\n",
      "|      0       |        1        |  476  |\n",
      "|      0       |        0        | 20362 |\n",
      "|      1       |        1        | 23132 |\n",
      "|      1       |        0        |  485  |\n",
      "+--------------+-----------------+-------+\n",
      "[4 rows x 3 columns]\n",
      ", 'accuracy': 0.9783826341243954}\n"
     ]
    }
   ],
   "source": [
    "print optimized_noise_classifier.evaluate(test)"
   ]
  },
  {
   "cell_type": "code",
   "execution_count": 82,
   "metadata": {
    "collapsed": false,
    "deletable": true,
    "editable": true
   },
   "outputs": [],
   "source": [
    "predicted_not_noise = test[optimized_noise_classifier.predict(test) == 0]"
   ]
  },
  {
   "cell_type": "markdown",
   "metadata": {
    "collapsed": false,
    "deletable": true,
    "editable": true,
    "scrolled": true
   },
   "source": [
    "# Type classifier now"
   ]
  },
  {
   "cell_type": "code",
   "execution_count": 83,
   "metadata": {
    "collapsed": false,
    "deletable": true,
    "editable": true
   },
   "outputs": [],
   "source": [
    "not_noise_k_fold = graphlab.cross_validation.KFold(graphlab.cross_validation.shuffle(not_noise_train), 5)"
   ]
  },
  {
   "cell_type": "code",
   "execution_count": 85,
   "metadata": {
    "collapsed": false,
    "deletable": true,
    "editable": true
   },
   "outputs": [
    {
     "name": "stdout",
     "output_type": "stream",
     "text": [
      "At iterations: 5 0.753870673797 0.7538978314\n",
      "At iterations: 10 0.787531632498 0.788229491505\n",
      "At iterations: 20 0.807766722629 0.807989361764\n",
      "At iterations: 40 0.820109911931 0.821276897846\n",
      "At iterations: 80 0.832886157164 0.833692240406\n",
      "At iterations: 160 0.843737570104 0.84538274493\n",
      "At iterations: 320 0.852363376439 0.854775454077\n",
      "At iterations: 640 0.858366535926 0.861774119829\n"
     ]
    },
    {
     "data": {
      "image/png": "[encoded data removed]",
      "text/plain": [
       "<matplotlib.figure.Figure at 0x7f5ea80e8910>"
      ]
     },
     "metadata": {},
     "output_type": "display_data"
    }
   ],
   "source": [
    "model_params = {'target': 'type', 'features': features, 'verbose': False, 'validation_set': None, 'max_depth': 1}\n",
    "model_factory = graphlab.boosted_trees_classifier.create\n",
    "type_max_iterations = get_best_max_iterations(not_noise_k_fold, max_iterations_a, model_factory, \n",
    "                                              model_params, accuracy)"
   ]
  },
  {
   "cell_type": "code",
   "execution_count": 86,
   "metadata": {
    "collapsed": false,
    "deletable": true,
    "editable": true
   },
   "outputs": [
    {
     "name": "stdout",
     "output_type": "stream",
     "text": [
      "At depth: 1 0.858366535926 0.861774119829\n",
      "At depth: 2 0.924365090059 0.934852565146\n",
      "At depth: 3 0.962008110748 0.977403967423\n",
      "At depth: 4 0.983073273897 0.996354799523\n",
      "At depth: 5 0.991157674021 0.999882704008\n",
      "At depth: 6 0.99339532807 1.0\n",
      "At depth: 7 0.993864503173 1.0\n",
      "At depth: 8 0.994165265908 1.0\n",
      "At depth: 9 0.994008869865 1.0\n"
     ]
    },
    {
     "data": {
      "image/png": "[encoded data removed]",
      "text/plain": [
       "<matplotlib.figure.Figure at 0x7f5ea80b5050>"
      ]
     },
     "metadata": {},
     "output_type": "display_data"
    }
   ],
   "source": [
    "depths = range(1,10)\n",
    "\n",
    "model_params['max_iterations'] = type_max_iterations[0]\n",
    "type_max_depth = get_best_depth(not_noise_k_fold, depths, model_factory, model_params, accuracy)"
   ]
  },
  {
   "cell_type": "code",
   "execution_count": 87,
   "metadata": {
    "collapsed": false,
    "deletable": true,
    "editable": true
   },
   "outputs": [],
   "source": [
    "train_set_to_use = not_noise_train\n",
    "max_depth_to_use = type_max_depth[0]\n",
    "max_iterations_to_use = type_max_iterations[0]\n",
    "\n",
    "optimized_type_classifier = graphlab.boosted_trees_classifier.create(train_set_to_use, target='type', \n",
    "                                                                     features=features, max_depth=max_depth_to_use, \n",
    "                                                                     max_iterations=max_iterations_to_use,\n",
    "                                                                     verbose=False, validation_set=None)"
   ]
  },
  {
   "cell_type": "code",
   "execution_count": 88,
   "metadata": {
    "collapsed": false,
    "deletable": true,
    "editable": true
   },
   "outputs": [
    {
     "name": "stdout",
     "output_type": "stream",
     "text": [
      "{'f1_score': 0.6573326278131989, 'auc': 0.9998207155186319, 'recall': 0.665160566395531, 'precision': 0.9745665074264691, 'log_loss': 0.8126082711684043, 'roc_curve': Columns:\n",
      "\tthreshold\tfloat\n",
      "\tfpr\tfloat\n",
      "\ttpr\tfloat\n",
      "\tp\tint\n",
      "\tn\tint\n",
      "\n",
      "Rows: 100001\n",
      "\n",
      "Data:\n",
      "+-----------+----------------+-----+-------+-------+\n",
      "| threshold |      fpr       | tpr |   p   |   n   |\n",
      "+-----------+----------------+-----+-------+-------+\n",
      "|    0.0    |      1.0       | 1.0 | 10138 | 10224 |\n",
      "|   1e-05   | 0.658548513302 | 1.0 | 10138 | 10224 |\n",
      "|   2e-05   | 0.590375586854 | 1.0 | 10138 | 10224 |\n",
      "|   3e-05   | 0.546068075117 | 1.0 | 10138 | 10224 |\n",
      "|   4e-05   | 0.516431924883 | 1.0 | 10138 | 10224 |\n",
      "|   5e-05   | 0.486991392801 | 1.0 | 10138 | 10224 |\n",
      "|   6e-05   | 0.465179968701 | 1.0 | 10138 | 10224 |\n",
      "|   7e-05   | 0.447183098592 | 1.0 | 10138 | 10224 |\n",
      "|   8e-05   | 0.433881064163 | 1.0 | 10138 | 10224 |\n",
      "|   9e-05   | 0.419307511737 | 1.0 | 10138 | 10224 |\n",
      "+-----------+----------------+-----+-------+-------+\n",
      "[100001 rows x 5 columns]\n",
      "Note: Only the head of the SFrame is printed.\n",
      "You can use print_rows(num_rows=m, num_columns=n) to print more rows and columns., 'confusion_matrix': Columns:\n",
      "\ttarget_label\tstr\n",
      "\tpredicted_label\tstr\n",
      "\tcount\tint\n",
      "\n",
      "Rows: 6\n",
      "\n",
      "Data:\n",
      "+--------------+-----------------+-------+\n",
      "| target_label | predicted_label | count |\n",
      "+--------------+-----------------+-------+\n",
      "|    SWIPE     |      SWIPE      | 10201 |\n",
      "|    NOISE     |      SWIPE      |  153  |\n",
      "|    SWIPE     |      TOUCH      |   23  |\n",
      "|    TOUCH     |      SWIPE      |   23  |\n",
      "|    NOISE     |      TOUCH      |  332  |\n",
      "|    TOUCH     |      TOUCH      | 10115 |\n",
      "+--------------+-----------------+-------+\n",
      "[6 rows x 3 columns]\n",
      ", 'accuracy': 0.9745287091667866}\n"
     ]
    }
   ],
   "source": [
    "print optimized_type_classifier.evaluate(predicted_not_noise)\n",
    "\n",
    "predicted_touches = predicted_not_noise[optimized_type_classifier.predict(predicted_not_noise) == \"TOUCH\"]\n",
    "predicted_swipes = predicted_not_noise[optimized_type_classifier.predict(predicted_not_noise) == \"SWIPE\"]"
   ]
  },
  {
   "cell_type": "markdown",
   "metadata": {
    "collapsed": false,
    "deletable": true,
    "editable": true
   },
   "source": [
    "# Let's classify swipes"
   ]
  },
  {
   "cell_type": "code",
   "execution_count": 89,
   "metadata": {
    "collapsed": true,
    "deletable": true,
    "editable": true
   },
   "outputs": [],
   "source": [
    "swipes_k_fold = graphlab.cross_validation.KFold(graphlab.cross_validation.shuffle(train_swipes), 5)"
   ]
  },
  {
   "cell_type": "code",
   "execution_count": 90,
   "metadata": {
    "collapsed": false,
    "deletable": true,
    "editable": true
   },
   "outputs": [
    {
     "name": "stdout",
     "output_type": "stream",
     "text": [
      "At iterations: 5 0.476700450514 0.479318116527\n",
      "At iterations: 10 0.513117989729 0.516523833672\n",
      "At iterations: 20 0.542747621611 0.547621912922\n",
      "At iterations: 40 0.594569804479 0.598956576998\n",
      "At iterations: 80 0.631564914677 0.638184186696\n",
      "At iterations: 160 0.658306320883 0.666652623675\n",
      "At iterations: 320 0.678934051329 0.689542921781\n",
      "At iterations: 640 0.697058524248 0.709990130111\n"
     ]
    },
    {
     "data": {
      "image/png": "[encoded data removed]",
      "text/plain": [
       "<matplotlib.figure.Figure at 0x7f5e9be04bd0>"
      ]
     },
     "metadata": {},
     "output_type": "display_data"
    }
   ],
   "source": [
    "model_params = {'target': 'action', 'features': features, 'verbose': False, 'validation_set': None, 'max_depth': 1}\n",
    "model_factory = graphlab.boosted_trees_classifier.create\n",
    "swipe_max_iterations = get_best_max_iterations(swipes_k_fold, max_iterations_a, model_factory, model_params, accuracy)"
   ]
  },
  {
   "cell_type": "code",
   "execution_count": 91,
   "metadata": {
    "collapsed": false,
    "deletable": true,
    "editable": true
   },
   "outputs": [
    {
     "name": "stdout",
     "output_type": "stream",
     "text": [
      "At depth: 1 0.697058524248 0.709990130111\n",
      "At depth: 2 0.881721378773 0.911724357156\n",
      "At depth: 3 0.968829806139 0.991232605907\n",
      "At depth: 4 0.98904830408 1.0\n",
      "At depth: 5 0.992081078917 1.0\n",
      "At depth: 6 0.992851328044 1.0\n",
      "At depth: 7 0.99309201931 1.0\n",
      "At depth: 8 0.993140148294 1.0\n",
      "At depth: 9 0.993092013517 1.0\n"
     ]
    },
    {
     "data": {
      "image/png": "[encoded data removed]",
      "text/plain": [
       "<matplotlib.figure.Figure at 0x7f5e9be16790>"
      ]
     },
     "metadata": {},
     "output_type": "display_data"
    }
   ],
   "source": [
    "depths = range(1,10)\n",
    "\n",
    "model_params['max_iterations'] = swipe_max_iterations[0]\n",
    "swipe_max_depth = get_best_depth(swipes_k_fold, depths, model_factory, model_params, accuracy)"
   ]
  },
  {
   "cell_type": "code",
   "execution_count": 92,
   "metadata": {
    "collapsed": false,
    "deletable": true,
    "editable": true
   },
   "outputs": [],
   "source": [
    "train_set_to_use = train_swipes\n",
    "max_depth_to_use = swipe_max_depth[0]\n",
    "max_iterations_to_use = swipe_max_iterations[0]\n",
    "\n",
    "optimized_swipe_classifier = graphlab.boosted_trees_classifier.create(train_set_to_use, target='action', \n",
    "                                                                      features=features, max_depth=max_depth_to_use, \n",
    "                                                                      max_iterations=max_iterations_to_use,\n",
    "                                                                      verbose=False, validation_set=None)"
   ]
  },
  {
   "cell_type": "code",
   "execution_count": 93,
   "metadata": {
    "collapsed": false,
    "deletable": true,
    "editable": true
   },
   "outputs": [
    {
     "name": "stdout",
     "output_type": "stream",
     "text": [
      "{'f1_score': 0.3596427784362366, 'auc': 0.9999706885499008, 'recall': 0.36274571305150904, 'precision': 0.980640195621881, 'log_loss': 0.5940071362241232, 'roc_curve': Columns:\n",
      "\tthreshold\tfloat\n",
      "\tfpr\tfloat\n",
      "\ttpr\tfloat\n",
      "\tp\tint\n",
      "\tn\tint\n",
      "\tclass\tint\n",
      "\n",
      "Rows: 400004\n",
      "\n",
      "Data:\n",
      "+-----------+----------------+-----+------+------+-------+\n",
      "| threshold |      fpr       | tpr |  p   |  n   | class |\n",
      "+-----------+----------------+-----+------+------+-------+\n",
      "|    0.0    |      1.0       | 1.0 | 2531 | 7670 |   0   |\n",
      "|   1e-05   | 0.401694915254 | 1.0 | 2531 | 7670 |   0   |\n",
      "|   2e-05   | 0.314211212516 | 1.0 | 2531 | 7670 |   0   |\n",
      "|   3e-05   | 0.267275097784 | 1.0 | 2531 | 7670 |   0   |\n",
      "|   4e-05   | 0.233116036506 | 1.0 | 2531 | 7670 |   0   |\n",
      "|   5e-05   | 0.209517601043 | 1.0 | 2531 | 7670 |   0   |\n",
      "|   6e-05   | 0.191134289439 | 1.0 | 2531 | 7670 |   0   |\n",
      "|   7e-05   | 0.177183833116 | 1.0 | 2531 | 7670 |   0   |\n",
      "|   8e-05   | 0.165319426336 | 1.0 | 2531 | 7670 |   0   |\n",
      "|   9e-05   | 0.153063885267 | 1.0 | 2531 | 7670 |   0   |\n",
      "+-----------+----------------+-----+------+------+-------+\n",
      "[400004 rows x 6 columns]\n",
      "Note: Only the head of the SFrame is printed.\n",
      "You can use print_rows(num_rows=m, num_columns=n) to print more rows and columns., 'confusion_matrix': Columns:\n",
      "\ttarget_label\tstr\n",
      "\tpredicted_label\tstr\n",
      "\tcount\tint\n",
      "\n",
      "Rows: 30\n",
      "\n",
      "Data:\n",
      "+--------------+-----------------+-------+\n",
      "| target_label | predicted_label | count |\n",
      "+--------------+-----------------+-------+\n",
      "| TOP->BOTTOM  |   BOTTOM->TOP   |   4   |\n",
      "|   TOP-LEFT   |   BOTTOM->TOP   |   1   |\n",
      "|    NOISE     |   BOTTOM->TOP   |   29  |\n",
      "|    CENTER    |   LEFT->RIGHT   |   1   |\n",
      "| BOTTOM->TOP  |   LEFT->RIGHT   |   2   |\n",
      "|    NOISE     |   RIGHT->LEFT   |   42  |\n",
      "| BOTTOM->TOP  |   BOTTOM->TOP   |  2525 |\n",
      "|    NOISE     |   TOP->BOTTOM   |   32  |\n",
      "| RIGHT->LEFT  |   TOP->BOTTOM   |   2   |\n",
      "| BOTTOM->TOP  |   TOP->BOTTOM   |   2   |\n",
      "+--------------+-----------------+-------+\n",
      "[30 rows x 3 columns]\n",
      "Note: Only the head of the SFrame is printed.\n",
      "You can use print_rows(num_rows=m, num_columns=n) to print more rows and columns., 'accuracy': 0.9806302399537439}\n"
     ]
    }
   ],
   "source": [
    "print optimized_swipe_classifier.evaluate(predicted_swipes)"
   ]
  },
  {
   "cell_type": "markdown",
   "metadata": {
    "deletable": true,
    "editable": true
   },
   "source": [
    "# Let's go with touch classifier"
   ]
  },
  {
   "cell_type": "code",
   "execution_count": 95,
   "metadata": {
    "collapsed": false,
    "deletable": true,
    "editable": true
   },
   "outputs": [],
   "source": [
    "touches_k_fold = graphlab.cross_validation.KFold(graphlab.cross_validation.shuffle(train_touchs), 5)"
   ]
  },
  {
   "cell_type": "code",
   "execution_count": 97,
   "metadata": {
    "collapsed": false,
    "deletable": true,
    "editable": true
   },
   "outputs": [
    {
     "name": "stdout",
     "output_type": "stream",
     "text": [
      "At iterations: 5 0.319239458121 0.325089571362\n",
      "At iterations: 10 0.365899547547 0.370842048995\n",
      "At iterations: 20 0.411742199361 0.419246181868\n",
      "At iterations: 40 0.467085163116 0.477631851473\n",
      "At iterations: 80 0.51477976223 0.527094298566\n",
      "At iterations: 160 0.549775011519 0.565156203465\n",
      "At iterations: 320 0.581619456021 0.602388329931\n",
      "At iterations: 640 0.612020907758 0.640191685141\n"
     ]
    },
    {
     "data": {
      "image/png": "[encoded data removed]",
      "text/plain": [
       "<matplotlib.figure.Figure at 0x7f5e9bfbd2d0>"
      ]
     },
     "metadata": {},
     "output_type": "display_data"
    }
   ],
   "source": [
    "model_params = {'target': 'action', 'features': features, 'verbose': False, 'validation_set': None, 'max_depth': 1}\n",
    "model_factory = graphlab.boosted_trees_classifier.create\n",
    "touch_max_iterations = get_best_max_iterations(touches_k_fold, max_iterations_a, model_factory, model_params, accuracy)"
   ]
  },
  {
   "cell_type": "code",
   "execution_count": 98,
   "metadata": {
    "collapsed": false,
    "deletable": true,
    "editable": true
   },
   "outputs": [
    {
     "name": "stdout",
     "output_type": "stream",
     "text": [
      "At depth: 1 0.697058524248 0.709990130111\n",
      "At depth: 2 0.881721378773 0.911724357156\n",
      "At depth: 3 0.968829806139 0.991232605907\n",
      "At depth: 4 0.98904830408 1.0\n",
      "At depth: 5 0.992081078917 1.0\n",
      "At depth: 6 0.992851328044 1.0\n",
      "At depth: 7 0.99309201931 1.0\n",
      "At depth: 8 0.993140148294 1.0\n",
      "At depth: 9 0.993092013517 1.0\n"
     ]
    },
    {
     "data": {
      "image/png": "[encoded data removed]",
      "text/plain": [
       "<matplotlib.figure.Figure at 0x7f5ea81de110>"
      ]
     },
     "metadata": {},
     "output_type": "display_data"
    }
   ],
   "source": [
    "depths = range(1,10)\n",
    "\n",
    "model_params['max_iterations'] = touch_max_iterations[0]\n",
    "touch_max_depth = get_best_depth(swipes_k_fold, depths, model_factory, model_params, accuracy)"
   ]
  },
  {
   "cell_type": "code",
   "execution_count": 103,
   "metadata": {
    "collapsed": false,
    "deletable": true,
    "editable": true
   },
   "outputs": [],
   "source": [
    "train_set_to_use = train_touchs\n",
    "max_depth_to_use = touch_max_depth[0]\n",
    "max_iterations_to_use = touch_max_iterations[0]\n",
    "\n",
    "optimized_touch_classifier = graphlab.boosted_trees_classifier.create(train_set_to_use, target='action', \n",
    "                                                                      features=features, max_depth=max_depth_to_use, \n",
    "                                                                      max_iterations=max_iterations_to_use,\n",
    "                                                                      verbose=False, validation_set=None)"
   ]
  },
  {
   "cell_type": "code",
   "execution_count": 104,
   "metadata": {
    "collapsed": false,
    "deletable": true,
    "editable": true
   },
   "outputs": [
    {
     "name": "stdout",
     "output_type": "stream",
     "text": [
      "{'f1_score': 0.6272983118257554, 'auc': 0.9999458998401484, 'recall': 0.638293037379739, 'precision': 0.9593094920674547, 'log_loss': 1.1961397119741706, 'roc_curve': Columns:\n",
      "\tthreshold\tfloat\n",
      "\tfpr\tfloat\n",
      "\ttpr\tfloat\n",
      "\tp\tint\n",
      "\tn\tint\n",
      "\tclass\tint\n",
      "\n",
      "Rows: 900009\n",
      "\n",
      "Data:\n",
      "+-----------+----------------+-----+------+------+-------+\n",
      "| threshold |      fpr       | tpr |  p   |  n   | class |\n",
      "+-----------+----------------+-----+------+------+-------+\n",
      "|    0.0    |      1.0       | 1.0 | 1131 | 8984 |   0   |\n",
      "|   1e-05   | 0.416295636687 | 1.0 | 1131 | 8984 |   0   |\n",
      "|   2e-05   | 0.347284060552 | 1.0 | 1131 | 8984 |   0   |\n",
      "|   3e-05   | 0.307546749777 | 1.0 | 1131 | 8984 |   0   |\n",
      "|   4e-05   | 0.279051647373 | 1.0 | 1131 | 8984 |   0   |\n",
      "|   5e-05   | 0.255231522707 | 1.0 | 1131 | 8984 |   0   |\n",
      "|   6e-05   | 0.23552983081  | 1.0 | 1131 | 8984 |   0   |\n",
      "|   7e-05   | 0.220837043633 | 1.0 | 1131 | 8984 |   0   |\n",
      "|   8e-05   | 0.208593054319 | 1.0 | 1131 | 8984 |   0   |\n",
      "|   9e-05   | 0.198130008905 | 1.0 | 1131 | 8984 |   0   |\n",
      "+-----------+----------------+-----+------+------+-------+\n",
      "[900009 rows x 6 columns]\n",
      "Note: Only the head of the SFrame is printed.\n",
      "You can use print_rows(num_rows=m, num_columns=n) to print more rows and columns., 'confusion_matrix': Columns:\n",
      "\ttarget_label\tstr\n",
      "\tpredicted_label\tstr\n",
      "\tcount\tint\n",
      "\n",
      "Rows: 64\n",
      "\n",
      "Data:\n",
      "+--------------+-----------------+-------+\n",
      "| target_label | predicted_label | count |\n",
      "+--------------+-----------------+-------+\n",
      "| CENTER-RIGHT |   BOTTOM-RIGHT  |   1   |\n",
      "|   TOP-LEFT   |     TOP-LEFT    |  1130 |\n",
      "| BOTTOM-RIGHT |   BOTTOM-RIGHT  |  1099 |\n",
      "| LEFT->RIGHT  |   BOTTOM-LEFT   |   1   |\n",
      "| CENTER-LEFT  |     TOP-LEFT    |   1   |\n",
      "| BOTTOM-LEFT  |  BOTTOM-CENTER  |   2   |\n",
      "|  TOP-RIGHT   |      CENTER     |   2   |\n",
      "|  TOP-CENTER  |    TOP-RIGHT    |   4   |\n",
      "| LEFT->RIGHT  |   CENTER-RIGHT  |   2   |\n",
      "| CENTER-RIGHT |  BOTTOM-CENTER  |   1   |\n",
      "+--------------+-----------------+-------+\n",
      "[64 rows x 3 columns]\n",
      "Note: Only the head of the SFrame is printed.\n",
      "You can use print_rows(num_rows=m, num_columns=n) to print more rows and columns., 'accuracy': 0.9592168099331423}\n"
     ]
    }
   ],
   "source": [
    "print optimized_touch_classifier.evaluate(predicted_touches)"
   ]
  },
  {
   "cell_type": "code",
   "execution_count": 105,
   "metadata": {
    "collapsed": true,
    "deletable": true,
    "editable": true
   },
   "outputs": [],
   "source": [
    "optimized_noise_classifier.save(\"noise_model\")\n",
    "optimized_type_classifier.save(\"type_model\")\n",
    "optimized_swipe_classifier.save(\"swipe_model\")\n",
    "optimized_touch_classifier.save(\"touch_model\")"
   ]
  },
  {
   "cell_type": "code",
   "execution_count": null,
   "metadata": {
    "collapsed": true,
    "deletable": true,
    "editable": true
   },
   "outputs": [],
   "source": []
  }
 ],
 "metadata": {
  "kernelspec": {
   "display_name": "Python 2",
   "language": "python",
   "name": "python2"
  },
  "language_info": {
   "codemirror_mode": {
    "name": "ipython",
    "version": 2
   },
   "file_extension": ".py",
   "mimetype": "text/x-python",
   "name": "python",
   "nbconvert_exporter": "python",
   "pygments_lexer": "ipython2",
   "version": "2.7.12"
  }
 },
 "nbformat": 4,
 "nbformat_minor": 0
}
