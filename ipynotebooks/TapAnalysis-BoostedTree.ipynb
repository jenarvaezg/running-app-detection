{
 "cells": [
  {
   "cell_type": "code",
   "execution_count": 31,
   "metadata": {
    "collapsed": true,
    "deletable": true,
    "editable": true
   },
   "outputs": [],
   "source": [
    "import graphlab"
   ]
  },
  {
   "cell_type": "code",
   "execution_count": 32,
   "metadata": {
    "collapsed": false,
    "deletable": true,
    "editable": true
   },
   "outputs": [],
   "source": [
    "graphlab.canvas.set_target('ipynb')"
   ]
  },
  {
   "cell_type": "code",
   "execution_count": 33,
   "metadata": {
    "collapsed": false,
    "deletable": true,
    "editable": true,
    "scrolled": true
   },
   "outputs": [
    {
     "data": {
      "application/javascript": [
       "$(\"head\").append($(\"<link/>\").attr({\n",
       "  rel:  \"stylesheet\",\n",
       "  type: \"text/css\",\n",
       "  href: \"//cdnjs.cloudflare.com/ajax/libs/font-awesome/4.1.0/css/font-awesome.min.css\"\n",
       "}));\n",
       "$(\"head\").append($(\"<link/>\").attr({\n",
       "  rel:  \"stylesheet\",\n",
       "  type: \"text/css\",\n",
       "  href: \"https://static.turi.com/products/graphlab-create/2.1/canvas/css/canvas.css\"\n",
       "}));\n",
       "\n",
       "            (function(){\n",
       "\n",
       "                var e = null;\n",
       "                if (typeof element == 'undefined') {\n",
       "                    var scripts = document.getElementsByTagName('script');\n",
       "                    var thisScriptTag = scripts[scripts.length-1];\n",
       "                    var parentDiv = thisScriptTag.parentNode;\n",
       "                    e = document.createElement('div');\n",
       "                    parentDiv.appendChild(e);\n",
       "                } else {\n",
       "                    e = element[0];\n",
       "                }\n",
       "\n",
       "                if (typeof requirejs !== 'undefined') {\n",
       "                    // disable load timeout; ipython_app.js is large and can take a while to load.\n",
       "                    requirejs.config({waitSeconds: 0});\n",
       "                }\n",
       "\n",
       "                require(['https://static.turi.com/products/graphlab-create/2.1/canvas/js/ipython_app.js'], function(IPythonApp){\n",
       "                    var app = new IPythonApp();\n",
       "                    app.attachView('sarray','Categorical', {\"ipython\": true, \"sketch\": {\"complete\": true, \"numeric\": false, \"num_unique\": 3, \"num_undefined\": 0, \"progress\": 1.0, \"frequent_items\": {\"TOUCH\": {\"frequency\": 8007, \"value\": \"TOUCH\"}, \"NOISE\": {\"frequency\": 12299, \"value\": \"NOISE\"}, \"SWIPE\": {\"frequency\": 13411, \"value\": \"SWIPE\"}}, \"size\": 33717}, \"selected_variable\": {\"name\": [\"<SArray>\"], \"dtype\": \"str\", \"view_component\": \"Categorical\", \"view_file\": \"sarray\", \"descriptives\": {\"rows\": 33717}, \"type\": \"SArray\", \"view_components\": [\"Categorical\"]}, \"histogram\": null}, e);\n",
       "                });\n",
       "            })();\n",
       "        "
      ]
     },
     "metadata": {},
     "output_type": "display_data"
    },
    {
     "data": {
      "application/javascript": [
       "$(\"head\").append($(\"<link/>\").attr({\n",
       "  rel:  \"stylesheet\",\n",
       "  type: \"text/css\",\n",
       "  href: \"//cdnjs.cloudflare.com/ajax/libs/font-awesome/4.1.0/css/font-awesome.min.css\"\n",
       "}));\n",
       "$(\"head\").append($(\"<link/>\").attr({\n",
       "  rel:  \"stylesheet\",\n",
       "  type: \"text/css\",\n",
       "  href: \"https://static.turi.com/products/graphlab-create/2.1/canvas/css/canvas.css\"\n",
       "}));\n",
       "\n",
       "            (function(){\n",
       "\n",
       "                var e = null;\n",
       "                if (typeof element == 'undefined') {\n",
       "                    var scripts = document.getElementsByTagName('script');\n",
       "                    var thisScriptTag = scripts[scripts.length-1];\n",
       "                    var parentDiv = thisScriptTag.parentNode;\n",
       "                    e = document.createElement('div');\n",
       "                    parentDiv.appendChild(e);\n",
       "                } else {\n",
       "                    e = element[0];\n",
       "                }\n",
       "\n",
       "                if (typeof requirejs !== 'undefined') {\n",
       "                    // disable load timeout; ipython_app.js is large and can take a while to load.\n",
       "                    requirejs.config({waitSeconds: 0});\n",
       "                }\n",
       "\n",
       "                require(['https://static.turi.com/products/graphlab-create/2.1/canvas/js/ipython_app.js'], function(IPythonApp){\n",
       "                    var app = new IPythonApp();\n",
       "                    app.attachView('sarray','Categorical', {\"ipython\": true, \"sketch\": {\"complete\": true, \"numeric\": false, \"num_unique\": 3, \"num_undefined\": 0, \"progress\": 1.0, \"frequent_items\": {\"DURING\": {\"frequency\": 21418, \"value\": \"DURING\"}, \"AFTER\": {\"frequency\": 3129, \"value\": \"AFTER\"}, \"BEFORE\": {\"frequency\": 9170, \"value\": \"BEFORE\"}}, \"size\": 33717}, \"selected_variable\": {\"name\": [\"<SArray>\"], \"dtype\": \"str\", \"view_component\": \"Categorical\", \"view_file\": \"sarray\", \"descriptives\": {\"rows\": 33717}, \"type\": \"SArray\", \"view_components\": [\"Categorical\"]}, \"histogram\": null}, e);\n",
       "                });\n",
       "            })();\n",
       "        "
      ]
     },
     "metadata": {},
     "output_type": "display_data"
    },
    {
     "data": {
      "application/javascript": [
       "$(\"head\").append($(\"<link/>\").attr({\n",
       "  rel:  \"stylesheet\",\n",
       "  type: \"text/css\",\n",
       "  href: \"//cdnjs.cloudflare.com/ajax/libs/font-awesome/4.1.0/css/font-awesome.min.css\"\n",
       "}));\n",
       "$(\"head\").append($(\"<link/>\").attr({\n",
       "  rel:  \"stylesheet\",\n",
       "  type: \"text/css\",\n",
       "  href: \"https://static.turi.com/products/graphlab-create/2.1/canvas/css/canvas.css\"\n",
       "}));\n",
       "\n",
       "            (function(){\n",
       "\n",
       "                var e = null;\n",
       "                if (typeof element == 'undefined') {\n",
       "                    var scripts = document.getElementsByTagName('script');\n",
       "                    var thisScriptTag = scripts[scripts.length-1];\n",
       "                    var parentDiv = thisScriptTag.parentNode;\n",
       "                    e = document.createElement('div');\n",
       "                    parentDiv.appendChild(e);\n",
       "                } else {\n",
       "                    e = element[0];\n",
       "                }\n",
       "\n",
       "                if (typeof requirejs !== 'undefined') {\n",
       "                    // disable load timeout; ipython_app.js is large and can take a while to load.\n",
       "                    requirejs.config({waitSeconds: 0});\n",
       "                }\n",
       "\n",
       "                require(['https://static.turi.com/products/graphlab-create/2.1/canvas/js/ipython_app.js'], function(IPythonApp){\n",
       "                    var app = new IPythonApp();\n",
       "                    app.attachView('sarray','Categorical', {\"ipython\": true, \"sketch\": {\"complete\": true, \"numeric\": false, \"num_unique\": 9, \"num_undefined\": 0, \"progress\": 1.0, \"frequent_items\": {\"CENTER-LEFT\": {\"frequency\": 833, \"value\": \"CENTER-LEFT\"}, \"CENTER\": {\"frequency\": 1470, \"value\": \"CENTER\"}, \"BOTTOM-CENTER\": {\"frequency\": 1759, \"value\": \"BOTTOM-CENTER\"}, \"CENTER-RIGHT\": {\"frequency\": 1134, \"value\": \"CENTER-RIGHT\"}, \"BOTTOM-RIGHT\": {\"frequency\": 641, \"value\": \"BOTTOM-RIGHT\"}, \"BOTTOM-LEFT\": {\"frequency\": 1034, \"value\": \"BOTTOM-LEFT\"}, \"TOP-CENTER\": {\"frequency\": 372, \"value\": \"TOP-CENTER\"}, \"TOP-RIGHT\": {\"frequency\": 352, \"value\": \"TOP-RIGHT\"}, \"TOP-LEFT\": {\"frequency\": 412, \"value\": \"TOP-LEFT\"}}, \"size\": 8007}, \"selected_variable\": {\"name\": [\"<SArray>\"], \"dtype\": \"str\", \"view_component\": \"Categorical\", \"view_file\": \"sarray\", \"descriptives\": {\"rows\": 8007}, \"type\": \"SArray\", \"view_components\": [\"Categorical\"]}, \"histogram\": null}, e);\n",
       "                });\n",
       "            })();\n",
       "        "
      ]
     },
     "metadata": {},
     "output_type": "display_data"
    },
    {
     "data": {
      "application/javascript": [
       "$(\"head\").append($(\"<link/>\").attr({\n",
       "  rel:  \"stylesheet\",\n",
       "  type: \"text/css\",\n",
       "  href: \"//cdnjs.cloudflare.com/ajax/libs/font-awesome/4.1.0/css/font-awesome.min.css\"\n",
       "}));\n",
       "$(\"head\").append($(\"<link/>\").attr({\n",
       "  rel:  \"stylesheet\",\n",
       "  type: \"text/css\",\n",
       "  href: \"https://static.turi.com/products/graphlab-create/2.1/canvas/css/canvas.css\"\n",
       "}));\n",
       "\n",
       "            (function(){\n",
       "\n",
       "                var e = null;\n",
       "                if (typeof element == 'undefined') {\n",
       "                    var scripts = document.getElementsByTagName('script');\n",
       "                    var thisScriptTag = scripts[scripts.length-1];\n",
       "                    var parentDiv = thisScriptTag.parentNode;\n",
       "                    e = document.createElement('div');\n",
       "                    parentDiv.appendChild(e);\n",
       "                } else {\n",
       "                    e = element[0];\n",
       "                }\n",
       "\n",
       "                if (typeof requirejs !== 'undefined') {\n",
       "                    // disable load timeout; ipython_app.js is large and can take a while to load.\n",
       "                    requirejs.config({waitSeconds: 0});\n",
       "                }\n",
       "\n",
       "                require(['https://static.turi.com/products/graphlab-create/2.1/canvas/js/ipython_app.js'], function(IPythonApp){\n",
       "                    var app = new IPythonApp();\n",
       "                    app.attachView('sarray','Categorical', {\"ipython\": true, \"sketch\": {\"complete\": true, \"numeric\": false, \"num_unique\": 4, \"num_undefined\": 0, \"progress\": 1.0, \"frequent_items\": {\"LEFT->RIGHT\": {\"frequency\": 2215, \"value\": \"LEFT->RIGHT\"}, \"TOP->BOTTOM\": {\"frequency\": 4003, \"value\": \"TOP->BOTTOM\"}, \"BOTTOM->TOP\": {\"frequency\": 5008, \"value\": \"BOTTOM->TOP\"}, \"RIGHT->LEFT\": {\"frequency\": 2185, \"value\": \"RIGHT->LEFT\"}}, \"size\": 13411}, \"selected_variable\": {\"name\": [\"<SArray>\"], \"dtype\": \"str\", \"view_component\": \"Categorical\", \"view_file\": \"sarray\", \"descriptives\": {\"rows\": 13411}, \"type\": \"SArray\", \"view_components\": [\"Categorical\"]}, \"histogram\": null}, e);\n",
       "                });\n",
       "            })();\n",
       "        "
      ]
     },
     "metadata": {},
     "output_type": "display_data"
    }
   ],
   "source": [
    "#taps = graphlab.SFrame.read_csv(\"taps.csv\", verbose=False)\n",
    "taps = graphlab.SFrame.read_csv(\"wow/6shcnktccn86m96hmcbng29s6t_taps.csv\", verbose=False)\n",
    "taps['type'].show()\n",
    "taps['when'].show()\n",
    "taps[taps['type'] == \"TOUCH\"]['action'].show()\n",
    "taps[taps['type'] == \"SWIPE\"]['action'].show()"
   ]
  },
  {
   "cell_type": "code",
   "execution_count": 34,
   "metadata": {
    "collapsed": true,
    "deletable": true,
    "editable": true
   },
   "outputs": [],
   "source": [
    "features = [\n",
    "    \"n_accel\",\n",
    "    \n",
    "    \"accel_x_mean\",\n",
    "    \"accel_x_median\",\n",
    "    \"accel_x_var\",\n",
    "    \"accel_x_skewness\",\n",
    "    \"accel_x_kurtosis\",\n",
    "    \"accel_x_diff\",\n",
    "    \n",
    "    \"accel_y_mean\",\n",
    "    \"accel_y_median\",\n",
    "    \"accel_y_skewness\",\n",
    "    \"accel_y_kurtosis\",\n",
    "    \"accel_y_var\",\n",
    "    \"accel_y_diff\",\n",
    "    \n",
    "    \"accel_z_mean\",\n",
    "    \"accel_z_var\",   \n",
    "    \"accel_z_median\",\n",
    "    \"accel_z_skewness\",\n",
    "    \"accel_z_kurtosis\",\n",
    "    \"accel_z_diff\",\n",
    "    \n",
    "    \"n_gyro\",\n",
    "    \n",
    "    \"gyro_x_mean\",\n",
    "    \"gyro_x_median\",\n",
    "    \"gyro_x_var\",\n",
    "    \"gyro_x_skewness\",\n",
    "    \"gyro_x_kurtosis\",\n",
    "    \"gyro_x_diff\",\n",
    "    \n",
    "    \"gyro_y_mean\",\n",
    "    \"gyro_y_median\",\n",
    "    \"gyro_y_var\",\n",
    "    \"gyro_y_skewness\",\n",
    "    \"gyro_y_kurtosis\",\n",
    "    \"gyro_y_diff\",\n",
    "    \n",
    "    \"gyro_z_mean\",\n",
    "    \"gyro_z_median\",\n",
    "    \"gyro_z_var\",\n",
    "    \"gyro_z_skewness\",\n",
    "    \"gyro_z_kurtosis\",\n",
    "    \"gyro_z_diff\",\n",
    "    \n",
    "] \n",
    "\n"
   ]
  },
  {
   "cell_type": "code",
   "execution_count": 35,
   "metadata": {
    "collapsed": false,
    "deletable": true,
    "editable": true
   },
   "outputs": [],
   "source": [
    "train, test = taps.random_split(0.8, seed=1)\n"
   ]
  },
  {
   "cell_type": "code",
   "execution_count": 36,
   "metadata": {
    "collapsed": false,
    "deletable": true,
    "editable": true
   },
   "outputs": [],
   "source": [
    "not_noise_train = train[train['noise'] == 0]\n",
    "not_noise_test = test[test['noise'] == 0]\n",
    "\n",
    "noise_train = train[train['noise'] == 1]\n",
    "noise_test = test[test['noise'] == 1]"
   ]
  },
  {
   "cell_type": "code",
   "execution_count": 37,
   "metadata": {
    "collapsed": false,
    "deletable": true,
    "editable": true
   },
   "outputs": [],
   "source": [
    "train_touchs = not_noise_train[not_noise_train['type'] == \"TOUCH\"]\n",
    "train_swipes = not_noise_train[not_noise_train['type'] == \"SWIPE\"]\n",
    "test_touchs = not_noise_test[not_noise_test['type'] == \"TOUCH\"]\n",
    "test_swipes = not_noise_test[not_noise_test['type'] == \"SWIPE\"]"
   ]
  },
  {
   "cell_type": "markdown",
   "metadata": {
    "deletable": true,
    "editable": true
   },
   "source": [
    "# Let's focus on boosted trees."
   ]
  },
  {
   "cell_type": "code",
   "execution_count": 38,
   "metadata": {
    "collapsed": false,
    "deletable": true,
    "editable": true
   },
   "outputs": [],
   "source": [
    "k_fold = graphlab.cross_validation.KFold(graphlab.cross_validation.shuffle(train), 5)"
   ]
  },
  {
   "cell_type": "code",
   "execution_count": 39,
   "metadata": {
    "collapsed": false,
    "deletable": true,
    "editable": true
   },
   "outputs": [],
   "source": [
    "def f1_score(model, data):\n",
    "    return model.evaluate(data, metric='f1_score')['f1_score']\n",
    "\n",
    "def accuracy(model, data):\n",
    "    return model.evaluate(data, metric='accuracy')['accuracy']\n",
    "\n",
    "def get_cross_val_score(k_fold, model_factory, model_params, metric_f):\n",
    "    val_errors = []\n",
    "    train_errors = []\n",
    "    for train, valid in k_fold:\n",
    "        m = model_factory(train, **model_params)\n",
    "        val_errors.append(metric_f(m, valid))\n",
    "        train_errors.append(metric_f(m, train))\n",
    "    return sum(train_errors)/float(len(train_errors)), sum(val_errors)/float(len(val_errors))\n",
    "\n",
    "\n",
    "def get_best_max_iterations(k_fold, max_iterations_a, model_factory, model_params, metric_f, plot=True):\n",
    "    val_a = []\n",
    "    train_a = []\n",
    "    for max_iterations in max_iterations_a:\n",
    "        model_params['max_iterations'] = max_iterations\n",
    "        train_e, val_e = get_cross_val_score(k_fold, model_factory, model_params, metric_f)\n",
    "        val_a.append(val_e)\n",
    "        train_a.append(train_e)\n",
    "        print \"At iterations:\", max_iterations, val_e, train_e\n",
    "    if plot:\n",
    "        %matplotlib inline\n",
    "\n",
    "        import matplotlib\n",
    "        import numpy as np\n",
    "        import matplotlib.pyplot as plt\n",
    "\n",
    "        plt.plot(max_iterations_a, val_a)\n",
    "        plt.plot(max_iterations_a, train_a)\n",
    "    if metric_f == f1_score or metric_f == accuracy:\n",
    "        return max_iterations_a[val_a.index(max(val_a))], max(val_a)\n",
    "    return max_iterations_a[val_a.index(min(val_a))], min(val_a)\n",
    "\n",
    "def get_best_depth(k_fold, depths, model_factory, model_params, metric_f, plot=True):\n",
    "    val_a = []\n",
    "    train_a = []\n",
    "    for depth in depths:\n",
    "        model_params['max_depth'] = depth\n",
    "        train_e, val_e = get_cross_val_score(k_fold, model_factory, model_params, metric_f)\n",
    "        val_a.append(val_e)\n",
    "        train_a.append(train_e)\n",
    "        print \"At depth:\", depth, val_e, train_e\n",
    "    if plot:\n",
    "        %matplotlib inline\n",
    "\n",
    "        import matplotlib\n",
    "        import numpy as np\n",
    "        import matplotlib.pyplot as plt\n",
    "\n",
    "        plt.plot(depths, val_a)\n",
    "        plt.plot(depths, train_a)\n",
    "    if metric_f == f1_score or metric_f == accuracy:\n",
    "        return depths[val_a.index(max(val_a))], max(val_a)\n",
    "    return depths[val_a.index(min(val_a))], min(val_a)"
   ]
  },
  {
   "cell_type": "code",
   "execution_count": 40,
   "metadata": {
    "collapsed": false,
    "deletable": true,
    "editable": true
   },
   "outputs": [
    {
     "name": "stdout",
     "output_type": "stream",
     "text": [
      "At iterations: 5 0.645949708664 0.646209775965\n",
      "At iterations: 10 0.652405896036 0.652870010951\n",
      "At iterations: 20 0.655819494389 0.656997862732\n",
      "At iterations: 40 0.657452113035 0.659289059844\n",
      "At iterations: 80 0.661274046726 0.664205391632\n",
      "At iterations: 160 0.671811749742 0.676561137452\n",
      "At iterations: 320 0.677525849617 0.68361096906\n",
      "At iterations: 640 0.68049412389 0.691004025426\n"
     ]
    },
    {
     "data": {
      "image/png": "[encoded data removed]",
      "text/plain": [
       "<matplotlib.figure.Figure at 0x7fb66652bc90>"
      ]
     },
     "metadata": {},
     "output_type": "display_data"
    }
   ],
   "source": [
    "max_iterations_a = [5, 10, 20, 40, 80, 160, 320, 640]\n",
    "model_params = dict([('target', 'noise'), ('features', features), ('verbose', False), ('validation_set', None),\n",
    "                    ('max_depth', 1)])\n",
    "model_factory = graphlab.boosted_trees_classifier.create\n",
    "noise_max_iterations = get_best_max_iterations(k_fold, max_iterations_a, model_factory, model_params, accuracy)"
   ]
  },
  {
   "cell_type": "code",
   "execution_count": 41,
   "metadata": {
    "collapsed": false,
    "deletable": true,
    "editable": true
   },
   "outputs": [
    {
     "name": "stdout",
     "output_type": "stream",
     "text": [
      "At depth: 1 0.68049412389 0.691004025426\n",
      "At depth: 2 0.748320987119 0.792326805623\n",
      "At depth: 3 0.798412030771 0.886043196767\n",
      "At depth: 4 0.836258245292 0.964704447725\n",
      "At depth: 5 0.861934509829 0.997727354473\n",
      "At depth: 6 0.879447791258 1.0\n",
      "At depth: 7 0.889651473682 1.0\n",
      "At depth: 8 0.89625608406 1.0\n",
      "At depth: 9 0.901005455048 1.0\n"
     ]
    },
    {
     "data": {
      "image/png": "[encoded data removed]",
      "text/plain": [
       "<matplotlib.figure.Figure at 0x7fb66627a510>"
      ]
     },
     "metadata": {},
     "output_type": "display_data"
    }
   ],
   "source": [
    "depths = range(1,10)\n",
    "model_params['max_iterations'] = noise_max_iterations[0]\n",
    "noise_max_depth = get_best_depth(k_fold, depths, model_factory, model_params, accuracy)"
   ]
  },
  {
   "cell_type": "code",
   "execution_count": 42,
   "metadata": {
    "collapsed": false,
    "deletable": true,
    "editable": true
   },
   "outputs": [],
   "source": [
    "train_set_to_use = train\n",
    "max_depth_to_use = noise_max_depth[0]\n",
    "max_iterations_to_use = noise_max_iterations[0]\n",
    "\n",
    "optimized_noise_classifier = graphlab.boosted_trees_classifier.create(train_set_to_use, target='noise', \n",
    "                                                                      features=features,\n",
    "                                                                      max_depth=max_depth_to_use, \n",
    "                                                                      max_iterations=max_iterations_to_use,\n",
    "                                                                      validation_set=None,\n",
    "                                                                      verbose=False)"
   ]
  },
  {
   "cell_type": "code",
   "execution_count": 43,
   "metadata": {
    "collapsed": false,
    "deletable": true,
    "editable": true
   },
   "outputs": [
    {
     "name": "stdout",
     "output_type": "stream",
     "text": [
      "{'f1_score': 0.8765112262521589, 'auc': 0.9712234198443471, 'recall': 0.8248679398618448, 'precision': 0.9350529709811147, 'log_loss': 0.22170771877339696, 'roc_curve': Columns:\n",
      "\tthreshold\tfloat\n",
      "\tfpr\tfloat\n",
      "\ttpr\tfloat\n",
      "\tp\tint\n",
      "\tn\tint\n",
      "\n",
      "Rows: 100001\n",
      "\n",
      "Data:\n",
      "+-----------+----------------+----------------+------+------+\n",
      "| threshold |      fpr       |      tpr       |  p   |  n   |\n",
      "+-----------+----------------+----------------+------+------+\n",
      "|    0.0    |      1.0       |      1.0       | 2461 | 4305 |\n",
      "|   1e-05   | 0.99512195122  | 0.999593661113 | 2461 | 4305 |\n",
      "|   2e-05   | 0.98931475029  | 0.999593661113 | 2461 | 4305 |\n",
      "|   3e-05   | 0.983042973287 | 0.999593661113 | 2461 | 4305 |\n",
      "|   4e-05   | 0.97537746806  | 0.999593661113 | 2461 | 4305 |\n",
      "|   5e-05   | 0.969105691057 | 0.999593661113 | 2461 | 4305 |\n",
      "|   6e-05   | 0.963995354239 | 0.999593661113 | 2461 | 4305 |\n",
      "|   7e-05   | 0.959349593496 | 0.999593661113 | 2461 | 4305 |\n",
      "|   8e-05   | 0.955168408827 | 0.999593661113 | 2461 | 4305 |\n",
      "|   9e-05   | 0.949361207898 | 0.999593661113 | 2461 | 4305 |\n",
      "+-----------+----------------+----------------+------+------+\n",
      "[100001 rows x 5 columns]\n",
      "Note: Only the head of the SFrame is printed.\n",
      "You can use print_rows(num_rows=m, num_columns=n) to print more rows and columns., 'confusion_matrix': Columns:\n",
      "\ttarget_label\tint\n",
      "\tpredicted_label\tint\n",
      "\tcount\tint\n",
      "\n",
      "Rows: 4\n",
      "\n",
      "Data:\n",
      "+--------------+-----------------+-------+\n",
      "| target_label | predicted_label | count |\n",
      "+--------------+-----------------+-------+\n",
      "|      0       |        1        |  141  |\n",
      "|      0       |        0        |  4164 |\n",
      "|      1       |        1        |  2030 |\n",
      "|      1       |        0        |  431  |\n",
      "+--------------+-----------------+-------+\n",
      "[4 rows x 3 columns]\n",
      ", 'accuracy': 0.9154596511971623}\n"
     ]
    }
   ],
   "source": [
    "print optimized_noise_classifier.evaluate(test)"
   ]
  },
  {
   "cell_type": "code",
   "execution_count": 44,
   "metadata": {
    "collapsed": false,
    "deletable": true,
    "editable": true
   },
   "outputs": [],
   "source": [
    "predicted_not_noise = test[optimized_noise_classifier.predict(test) == 0]"
   ]
  },
  {
   "cell_type": "markdown",
   "metadata": {
    "collapsed": false,
    "deletable": true,
    "editable": true,
    "scrolled": true
   },
   "source": [
    "# Type classifier now"
   ]
  },
  {
   "cell_type": "code",
   "execution_count": 45,
   "metadata": {
    "collapsed": false,
    "deletable": true,
    "editable": true
   },
   "outputs": [],
   "source": [
    "not_noise_k_fold = graphlab.cross_validation.KFold(graphlab.cross_validation.shuffle(not_noise_train), 5)"
   ]
  },
  {
   "cell_type": "code",
   "execution_count": 46,
   "metadata": {
    "collapsed": false,
    "deletable": true,
    "editable": true
   },
   "outputs": [
    {
     "name": "stdout",
     "output_type": "stream",
     "text": [
      "At iterations: 5 0.691813928298 0.69420912332\n",
      "At iterations: 10 0.704200825953 0.705808793789\n",
      "At iterations: 20 0.731315389261 0.737728571323\n",
      "At iterations: 40 0.759130443097 0.7644189763\n",
      "At iterations: 80 0.772278871928 0.779261442912\n",
      "At iterations: 160 0.782212481899 0.790013491452\n",
      "At iterations: 320 0.79255534594 0.801043073249\n",
      "At iterations: 640 0.798281983208 0.80999826335\n"
     ]
    },
    {
     "data": {
      "image/png": "[encoded data removed]",
      "text/plain": [
       "<matplotlib.figure.Figure at 0x7fb665ee9f50>"
      ]
     },
     "metadata": {},
     "output_type": "display_data"
    }
   ],
   "source": [
    "model_params = {'target': 'type', 'features': features, 'verbose': False, 'validation_set': None, 'max_depth': 1}\n",
    "model_factory = graphlab.boosted_trees_classifier.create\n",
    "type_max_iterations = get_best_max_iterations(not_noise_k_fold, max_iterations_a, model_factory, \n",
    "                                              model_params, accuracy)"
   ]
  },
  {
   "cell_type": "code",
   "execution_count": 47,
   "metadata": {
    "collapsed": false,
    "deletable": true,
    "editable": true
   },
   "outputs": [
    {
     "name": "stdout",
     "output_type": "stream",
     "text": [
      "At depth: 1 0.798281983208 0.80999826335\n",
      "At depth: 2 0.852802329209 0.899886044796\n",
      "At depth: 3 0.901478481336 0.981344569612\n",
      "At depth: 4 0.925729034501 0.999897739842\n",
      "At depth: 5 0.939227350035 1.0\n",
      "At depth: 6 0.947641875968 1.0\n",
      "At depth: 7 0.951206462011 1.0\n",
      "At depth: 8 0.955413554234 1.0\n",
      "At depth: 9 0.955822757081 1.0\n"
     ]
    },
    {
     "data": {
      "image/png": "[encoded data removed]",
      "text/plain": [
       "<matplotlib.figure.Figure at 0x7fb665e32050>"
      ]
     },
     "metadata": {},
     "output_type": "display_data"
    }
   ],
   "source": [
    "depths = range(1,10)\n",
    "\n",
    "model_params['max_iterations'] = type_max_iterations[0]\n",
    "type_max_depth = get_best_depth(not_noise_k_fold, depths, model_factory, model_params, accuracy)"
   ]
  },
  {
   "cell_type": "code",
   "execution_count": 48,
   "metadata": {
    "collapsed": false,
    "deletable": true,
    "editable": true
   },
   "outputs": [],
   "source": [
    "train_set_to_use = not_noise_train\n",
    "max_depth_to_use = type_max_depth[0]\n",
    "max_iterations_to_use = type_max_iterations[0]\n",
    "\n",
    "optimized_type_classifier = graphlab.boosted_trees_classifier.create(train_set_to_use, target='type', \n",
    "                                                                     features=features, max_depth=max_depth_to_use, \n",
    "                                                                     max_iterations=max_iterations_to_use,\n",
    "                                                                     verbose=False, validation_set=None)"
   ]
  },
  {
   "cell_type": "code",
   "execution_count": 49,
   "metadata": {
    "collapsed": false,
    "deletable": true,
    "editable": true
   },
   "outputs": [
    {
     "name": "stdout",
     "output_type": "stream",
     "text": [
      "{'f1_score': 0.6088754663965951, 'auc': 0.9933606594487073, 'recall': 0.6438406683616841, 'precision': 0.8670322790435172, 'log_loss': 3.3327132319436683, 'roc_curve': Columns:\n",
      "\tthreshold\tfloat\n",
      "\tfpr\tfloat\n",
      "\ttpr\tfloat\n",
      "\tp\tint\n",
      "\tn\tint\n",
      "\n",
      "Rows: 100001\n",
      "\n",
      "Data:\n",
      "+-----------+----------------+-----+------+------+\n",
      "| threshold |      fpr       | tpr |  p   |  n   |\n",
      "+-----------+----------------+-----+------+------+\n",
      "|    0.0    |      1.0       | 1.0 | 1541 | 2623 |\n",
      "|   1e-05   | 0.794891345787 | 1.0 | 1541 | 2623 |\n",
      "|   2e-05   | 0.735798703774 | 1.0 | 1541 | 2623 |\n",
      "|   3e-05   | 0.697293175753 | 1.0 | 1541 | 2623 |\n",
      "|   4e-05   | 0.667937476172 | 1.0 | 1541 | 2623 |\n",
      "|   5e-05   | 0.641631719405 | 1.0 | 1541 | 2623 |\n",
      "|   6e-05   | 0.625619519634 | 1.0 | 1541 | 2623 |\n",
      "|   7e-05   | 0.608463591308 | 1.0 | 1541 | 2623 |\n",
      "|   8e-05   | 0.593976362943 | 1.0 | 1541 | 2623 |\n",
      "|   9e-05   | 0.577964163172 | 1.0 | 1541 | 2623 |\n",
      "+-----------+----------------+-----+------+------+\n",
      "[100001 rows x 5 columns]\n",
      "Note: Only the head of the SFrame is printed.\n",
      "You can use print_rows(num_rows=m, num_columns=n) to print more rows and columns., 'confusion_matrix': Columns:\n",
      "\ttarget_label\tstr\n",
      "\tpredicted_label\tstr\n",
      "\tcount\tint\n",
      "\n",
      "Rows: 6\n",
      "\n",
      "Data:\n",
      "+--------------+-----------------+-------+\n",
      "| target_label | predicted_label | count |\n",
      "+--------------+-----------------+-------+\n",
      "|    TOUCH     |      SWIPE      |   55  |\n",
      "|    NOISE     |      SWIPE      |  209  |\n",
      "|    SWIPE     |      TOUCH      |   86  |\n",
      "|    SWIPE     |      SWIPE      |  2537 |\n",
      "|    NOISE     |      TOUCH      |  222  |\n",
      "|    TOUCH     |      TOUCH      |  1486 |\n",
      "+--------------+-----------------+-------+\n",
      "[6 rows x 3 columns]\n",
      ", 'accuracy': 0.8755168661588684}\n"
     ]
    }
   ],
   "source": [
    "print optimized_type_classifier.evaluate(predicted_not_noise)\n",
    "\n",
    "predicted_touches = predicted_not_noise[optimized_type_classifier.predict(predicted_not_noise) == \"TOUCH\"]\n",
    "predicted_swipes = predicted_not_noise[optimized_type_classifier.predict(predicted_not_noise) == \"SWIPE\"]"
   ]
  },
  {
   "cell_type": "markdown",
   "metadata": {
    "collapsed": false,
    "deletable": true,
    "editable": true
   },
   "source": [
    "# Let's classify swipes"
   ]
  },
  {
   "cell_type": "code",
   "execution_count": 50,
   "metadata": {
    "collapsed": true,
    "deletable": true,
    "editable": true
   },
   "outputs": [],
   "source": [
    "swipes_k_fold = graphlab.cross_validation.KFold(graphlab.cross_validation.shuffle(train_swipes), 5)"
   ]
  },
  {
   "cell_type": "code",
   "execution_count": 51,
   "metadata": {
    "collapsed": false,
    "deletable": true,
    "editable": true
   },
   "outputs": [
    {
     "name": "stdout",
     "output_type": "stream",
     "text": [
      "At iterations: 5 0.495988675504 0.497272064213\n",
      "At iterations: 10 0.506527632815 0.510026179804\n",
      "At iterations: 20 0.517906925164 0.524459024693\n",
      "At iterations: 40 0.536094179452 0.543601858528\n",
      "At iterations: 80 0.55325444456 0.561951977659\n",
      "At iterations: 160 0.570135119855 0.585734835037\n",
      "At iterations: 320 0.589534277911 0.611826104902\n",
      "At iterations: 640 0.609866532721 0.639712662327\n"
     ]
    },
    {
     "data": {
      "image/png": "[encoded data removed]",
      "text/plain": [
       "<matplotlib.figure.Figure at 0x7fb665e9fed0>"
      ]
     },
     "metadata": {},
     "output_type": "display_data"
    }
   ],
   "source": [
    "model_params = {'target': 'action', 'features': features, 'verbose': False, 'validation_set': None, 'max_depth': 1}\n",
    "model_factory = graphlab.boosted_trees_classifier.create\n",
    "swipe_max_iterations = get_best_max_iterations(swipes_k_fold, max_iterations_a, model_factory, model_params, accuracy)"
   ]
  },
  {
   "cell_type": "code",
   "execution_count": 52,
   "metadata": {
    "collapsed": false,
    "deletable": true,
    "editable": true
   },
   "outputs": [
    {
     "name": "stdout",
     "output_type": "stream",
     "text": [
      "At depth: 1 0.609866532721 0.639712662327\n",
      "At depth: 2 0.798824583377 0.912562965261\n",
      "At depth: 3 0.887893269666 0.998857480028\n",
      "At depth: 4 0.923708076749 1.0\n",
      "At depth: 5 0.9413354121 1.0\n",
      "At depth: 6 0.946651836969 1.0\n",
      "At depth: 7 0.949449518144 1.0\n",
      "At depth: 8 0.950941838013 1.0\n",
      "At depth: 9 0.950568790662 1.0\n"
     ]
    },
    {
     "data": {
      "image/png": "[encoded data removed]",
      "text/plain": [
       "<matplotlib.figure.Figure at 0x7fb66625f050>"
      ]
     },
     "metadata": {},
     "output_type": "display_data"
    }
   ],
   "source": [
    "depths = range(1,10)\n",
    "\n",
    "\n",
    "model_params['max_iterations'] = swipe_max_iterations[0]\n",
    "swipe_max_depth = get_best_depth(swipes_k_fold, depths, model_factory, model_params, accuracy)"
   ]
  },
  {
   "cell_type": "code",
   "execution_count": 53,
   "metadata": {
    "collapsed": false,
    "deletable": true,
    "editable": true
   },
   "outputs": [],
   "source": [
    "train_set_to_use = train_swipes\n",
    "max_depth_to_use = swipe_max_depth[0]\n",
    "max_iterations_to_use = swipe_max_iterations[0]\n",
    "\n",
    "optimized_swipe_classifier = graphlab.boosted_trees_classifier.create(train_set_to_use, target='action', \n",
    "                                                                      features=features, max_depth=max_depth_to_use, \n",
    "                                                                      max_iterations=max_iterations_to_use,\n",
    "                                                                      verbose=False, validation_set=None)"
   ]
  },
  {
   "cell_type": "code",
   "execution_count": 54,
   "metadata": {
    "collapsed": false,
    "deletable": true,
    "editable": true
   },
   "outputs": [
    {
     "name": "stdout",
     "output_type": "stream",
     "text": [
      "{'f1_score': 0.285039048813173, 'auc': 0.9988379778928176, 'recall': 0.29888896997540465, 'precision': 0.8855138165115461, 'log_loss': 3.321085436648253, 'roc_curve': Columns:\n",
      "\tthreshold\tfloat\n",
      "\tfpr\tfloat\n",
      "\ttpr\tfloat\n",
      "\tp\tint\n",
      "\tn\tint\n",
      "\tclass\tint\n",
      "\n",
      "Rows: 400004\n",
      "\n",
      "Data:\n",
      "+-----------+----------------+-----+-----+------+-------+\n",
      "| threshold |      fpr       | tpr |  p  |  n   | class |\n",
      "+-----------+----------------+-----+-----+------+-------+\n",
      "|    0.0    |      1.0       | 1.0 | 933 | 1604 |   0   |\n",
      "|   1e-05   | 0.844139650873 | 1.0 | 933 | 1604 |   0   |\n",
      "|   2e-05   | 0.793640897756 | 1.0 | 933 | 1604 |   0   |\n",
      "|   3e-05   | 0.756234413965 | 1.0 | 933 | 1604 |   0   |\n",
      "|   4e-05   | 0.725685785536 | 1.0 | 933 | 1604 |   0   |\n",
      "|   5e-05   | 0.70885286783  | 1.0 | 933 | 1604 |   0   |\n",
      "|   6e-05   | 0.692019950125 | 1.0 | 933 | 1604 |   0   |\n",
      "|   7e-05   | 0.673940149626 | 1.0 | 933 | 1604 |   0   |\n",
      "|   8e-05   | 0.662094763092 | 1.0 | 933 | 1604 |   0   |\n",
      "|   9e-05   | 0.647755610973 | 1.0 | 933 | 1604 |   0   |\n",
      "+-----------+----------------+-----+-----+------+-------+\n",
      "[400004 rows x 6 columns]\n",
      "Note: Only the head of the SFrame is printed.\n",
      "You can use print_rows(num_rows=m, num_columns=n) to print more rows and columns., 'confusion_matrix': Columns:\n",
      "\ttarget_label\tstr\n",
      "\tpredicted_label\tstr\n",
      "\tcount\tint\n",
      "\n",
      "Rows: 38\n",
      "\n",
      "Data:\n",
      "+---------------+-----------------+-------+\n",
      "|  target_label | predicted_label | count |\n",
      "+---------------+-----------------+-------+\n",
      "| BOTTOM-CENTER |   TOP->BOTTOM   |   4   |\n",
      "|  BOTTOM-LEFT  |   LEFT->RIGHT   |   1   |\n",
      "|  CENTER-RIGHT |   RIGHT->LEFT   |   2   |\n",
      "|  LEFT->RIGHT  |   BOTTOM->TOP   |   7   |\n",
      "|  BOTTOM-LEFT  |   TOP->BOTTOM   |   1   |\n",
      "|     CENTER    |   TOP->BOTTOM   |   9   |\n",
      "|  LEFT->RIGHT  |   RIGHT->LEFT   |   1   |\n",
      "|  BOTTOM->TOP  |   RIGHT->LEFT   |   8   |\n",
      "|  LEFT->RIGHT  |   LEFT->RIGHT   |  390  |\n",
      "|  RIGHT->LEFT  |   BOTTOM->TOP   |   6   |\n",
      "+---------------+-----------------+-------+\n",
      "[38 rows x 3 columns]\n",
      "Note: Only the head of the SFrame is printed.\n",
      "You can use print_rows(num_rows=m, num_columns=n) to print more rows and columns., 'accuracy': 0.8836129953588004}\n"
     ]
    }
   ],
   "source": [
    "print optimized_swipe_classifier.evaluate(predicted_swipes)"
   ]
  },
  {
   "cell_type": "markdown",
   "metadata": {
    "deletable": true,
    "editable": true
   },
   "source": [
    "# Let's go with touch classifier"
   ]
  },
  {
   "cell_type": "code",
   "execution_count": 55,
   "metadata": {
    "collapsed": false,
    "deletable": true,
    "editable": true
   },
   "outputs": [],
   "source": [
    "touches_k_fold = graphlab.cross_validation.KFold(graphlab.cross_validation.shuffle(train_touchs), 5)"
   ]
  },
  {
   "cell_type": "code",
   "execution_count": 56,
   "metadata": {
    "collapsed": false,
    "deletable": true,
    "editable": true
   },
   "outputs": [
    {
     "name": "stdout",
     "output_type": "stream",
     "text": [
      "At iterations: 5 0.335628627118 0.346659363793\n",
      "At iterations: 10 0.356594243596 0.370716639625\n",
      "At iterations: 20 0.373023966053 0.390940327625\n",
      "At iterations: 40 0.409167715877 0.437450863995\n",
      "At iterations: 80 0.444688179463 0.480284666689\n",
      "At iterations: 160 0.481927513303 0.533015248192\n",
      "At iterations: 320 0.519479713832 0.587544851\n",
      "At iterations: 640 0.553589646645 0.646182044786\n"
     ]
    },
    {
     "data": {
      "image/png": "[encoded data removed]",
      "text/plain": [
       "<matplotlib.figure.Figure at 0x7fb6660a2090>"
      ]
     },
     "metadata": {},
     "output_type": "display_data"
    }
   ],
   "source": [
    "model_params = {'target': 'action', 'features': features, 'verbose': False, 'validation_set': None, 'max_depth': 1}\n",
    "model_factory = graphlab.boosted_trees_classifier.create\n",
    "touch_max_iterations = get_best_max_iterations(touches_k_fold, max_iterations_a, model_factory, model_params, accuracy)"
   ]
  },
  {
   "cell_type": "code",
   "execution_count": 57,
   "metadata": {
    "collapsed": false,
    "deletable": true,
    "editable": true
   },
   "outputs": [
    {
     "name": "stdout",
     "output_type": "stream",
     "text": [
      "At depth: 1 0.553589646645 0.646182044786\n",
      "At depth: 2 0.810355679381 0.987834486765\n",
      "At depth: 3 0.88342773171 1.0\n",
      "At depth: 4 0.90408084857 1.0\n",
      "At depth: 5 0.915816347132 1.0\n",
      "At depth: 6 0.917694893189 1.0\n",
      "At depth: 7 0.91847626459 1.0\n",
      "At depth: 8 0.921293165998 1.0\n",
      "At depth: 9 0.918633126183 1.0\n"
     ]
    },
    {
     "data": {
      "image/png": "[encoded data removed]",
      "text/plain": [
       "<matplotlib.figure.Figure at 0x7fb6660e1290>"
      ]
     },
     "metadata": {},
     "output_type": "display_data"
    }
   ],
   "source": [
    "depths = range(1,10)\n",
    "model_params['max_iterations'] = touch_max_iterations[0]\n",
    "touch_max_depth = get_best_depth(touches_k_fold, depths, model_factory, model_params, accuracy)"
   ]
  },
  {
   "cell_type": "code",
   "execution_count": 58,
   "metadata": {
    "collapsed": false,
    "deletable": true,
    "editable": true
   },
   "outputs": [],
   "source": [
    "train_set_to_use = train_touchs\n",
    "max_depth_to_use = touch_max_depth[0]\n",
    "max_iterations_to_use = touch_max_iterations[0]\n",
    "\n",
    "optimized_touch_classifier = graphlab.boosted_trees_classifier.create(train_set_to_use, target='action', \n",
    "                                                                      features=features, max_depth=max_depth_to_use, \n",
    "                                                                      max_iterations=max_iterations_to_use,\n",
    "                                                                      verbose=False, validation_set=None)"
   ]
  },
  {
   "cell_type": "code",
   "execution_count": 59,
   "metadata": {
    "collapsed": false,
    "deletable": true,
    "editable": true
   },
   "outputs": [
    {
     "name": "stdout",
     "output_type": "stream",
     "text": [
      "{'f1_score': 0.5511537967729049, 'auc': 0.9980917989750687, 'recall': 0.601676567073975, 'precision': 0.7921691674181957, 'log_loss': 6.053149058282335, 'roc_curve': Columns:\n",
      "\tthreshold\tfloat\n",
      "\tfpr\tfloat\n",
      "\ttpr\tfloat\n",
      "\tp\tint\n",
      "\tn\tint\n",
      "\tclass\tint\n",
      "\n",
      "Rows: 900009\n",
      "\n",
      "Data:\n",
      "+-----------+----------------+-----+-----+------+-------+\n",
      "| threshold |      fpr       | tpr |  p  |  n   | class |\n",
      "+-----------+----------------+-----+-----+------+-------+\n",
      "|    0.0    |      1.0       | 1.0 | 337 | 1149 |   0   |\n",
      "|   1e-05   | 0.845953002611 | 1.0 | 337 | 1149 |   0   |\n",
      "|   2e-05   | 0.774586597041 | 1.0 | 337 | 1149 |   0   |\n",
      "|   3e-05   | 0.728459530026 | 1.0 | 337 | 1149 |   0   |\n",
      "|   4e-05   | 0.698868581375 | 1.0 | 337 | 1149 |   0   |\n",
      "|   5e-05   | 0.675369886858 | 1.0 | 337 | 1149 |   0   |\n",
      "|   6e-05   | 0.653611836379 | 1.0 | 337 | 1149 |   0   |\n",
      "|   7e-05   | 0.641427328111 | 1.0 | 337 | 1149 |   0   |\n",
      "|   8e-05   | 0.626631853786 | 1.0 | 337 | 1149 |   0   |\n",
      "|   9e-05   | 0.609225413403 | 1.0 | 337 | 1149 |   0   |\n",
      "+-----------+----------------+-----+-----+------+-------+\n",
      "[900009 rows x 6 columns]\n",
      "Note: Only the head of the SFrame is printed.\n",
      "You can use print_rows(num_rows=m, num_columns=n) to print more rows and columns., 'confusion_matrix': Columns:\n",
      "\ttarget_label\tstr\n",
      "\tpredicted_label\tstr\n",
      "\tcount\tint\n",
      "\n",
      "Rows: 86\n",
      "\n",
      "Data:\n",
      "+--------------+-----------------+-------+\n",
      "| target_label | predicted_label | count |\n",
      "+--------------+-----------------+-------+\n",
      "| BOTTOM-RIGHT |   BOTTOM-LEFT   |   1   |\n",
      "|    NOISE     |   CENTER-LEFT   |   21  |\n",
      "| CENTER-RIGHT |   CENTER-RIGHT  |  172  |\n",
      "|   TOP-LEFT   |     TOP-LEFT    |   55  |\n",
      "|    NOISE     |   BOTTOM-LEFT   |   37  |\n",
      "| TOP->BOTTOM  |     TOP-LEFT    |   2   |\n",
      "| BOTTOM->TOP  |    TOP-CENTER   |   1   |\n",
      "| BOTTOM-LEFT  |      CENTER     |   5   |\n",
      "|    NOISE     |    TOP-CENTER   |   5   |\n",
      "| BOTTOM->TOP  |   CENTER-LEFT   |   2   |\n",
      "+--------------+-----------------+-------+\n",
      "[86 rows x 3 columns]\n",
      "Note: Only the head of the SFrame is printed.\n",
      "You can use print_rows(num_rows=m, num_columns=n) to print more rows and columns., 'accuracy': 0.7853957636566332}\n"
     ]
    }
   ],
   "source": [
    "print optimized_touch_classifier.evaluate(predicted_touches)"
   ]
  },
  {
   "cell_type": "code",
   "execution_count": 60,
   "metadata": {
    "collapsed": true,
    "deletable": true,
    "editable": true
   },
   "outputs": [],
   "source": [
    "optimized_noise_classifier.save(\"noise_model\")\n",
    "optimized_type_classifier.save(\"type_model\")\n",
    "optimized_swipe_classifier.save(\"swipe_model\")\n",
    "optimized_touch_classifier.save(\"touch_model\")"
   ]
  },
  {
   "cell_type": "code",
   "execution_count": null,
   "metadata": {
    "collapsed": true,
    "deletable": true,
    "editable": true
   },
   "outputs": [],
   "source": []
  }
 ],
 "metadata": {
  "kernelspec": {
   "display_name": "Python 2",
   "language": "python",
   "name": "python2"
  },
  "language_info": {
   "codemirror_mode": {
    "name": "ipython",
    "version": 2
   },
   "file_extension": ".py",
   "mimetype": "text/x-python",
   "name": "python",
   "nbconvert_exporter": "python",
   "pygments_lexer": "ipython2",
   "version": "2.7.12"
  }
 },
 "nbformat": 4,
 "nbformat_minor": 0
}
