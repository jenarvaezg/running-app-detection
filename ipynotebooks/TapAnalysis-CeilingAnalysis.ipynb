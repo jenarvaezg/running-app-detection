{
 "cells": [
  {
   "cell_type": "code",
   "execution_count": 15,
   "metadata": {
    "collapsed": true,
    "deletable": true,
    "editable": true
   },
   "outputs": [],
   "source": [
    "import graphlab"
   ]
  },
  {
   "cell_type": "code",
   "execution_count": 16,
   "metadata": {
    "collapsed": false,
    "deletable": true,
    "editable": true
   },
   "outputs": [],
   "source": [
    "graphlab.canvas.set_target('ipynb')"
   ]
  },
  {
   "cell_type": "code",
   "execution_count": 17,
   "metadata": {
    "collapsed": false,
    "deletable": true,
    "editable": true
   },
   "outputs": [],
   "source": [
    "taps = graphlab.SFrame.read_csv(\"wow/6shcnktccn86m96hmcbng29s6t_taps.csv\", verbose=False)"
   ]
  },
  {
   "cell_type": "code",
   "execution_count": 18,
   "metadata": {
    "collapsed": true,
    "deletable": true,
    "editable": true
   },
   "outputs": [],
   "source": [
    "features = [\n",
    "    \"n_accel\",\n",
    "    \n",
    "    \"accel_x_mean\",\n",
    "    \"accel_x_median\",\n",
    "    \"accel_x_var\",\n",
    "    \"accel_x_skewness\",\n",
    "    \"accel_x_kurtosis\",\n",
    "    \"accel_x_diff\",\n",
    "    \n",
    "    \"accel_y_mean\",\n",
    "    \"accel_y_median\",\n",
    "    \"accel_y_skewness\",\n",
    "    \"accel_y_kurtosis\",\n",
    "    \"accel_y_var\",\n",
    "    \"accel_y_diff\",\n",
    "    \n",
    "    \"accel_z_mean\",\n",
    "    \"accel_z_var\",   \n",
    "    \"accel_z_median\",\n",
    "    \"accel_z_skewness\",\n",
    "    \"accel_z_kurtosis\",\n",
    "    \"accel_z_diff\",\n",
    "    \n",
    "    \"n_gyro\",\n",
    "    \n",
    "    \"gyro_x_mean\",\n",
    "    \"gyro_x_median\",\n",
    "    \"gyro_x_var\",\n",
    "    \"gyro_x_skewness\",\n",
    "    \"gyro_x_kurtosis\",\n",
    "    \"gyro_x_diff\",\n",
    "    \n",
    "    \"gyro_y_mean\",\n",
    "    \"gyro_y_median\",\n",
    "    \"gyro_y_var\",\n",
    "    \"gyro_y_skewness\",\n",
    "    \"gyro_y_kurtosis\",\n",
    "    \"gyro_y_diff\",\n",
    "    \n",
    "    \"gyro_z_mean\",\n",
    "    \"gyro_z_median\",\n",
    "    \"gyro_z_var\",\n",
    "    \"gyro_z_skewness\",\n",
    "    \"gyro_z_kurtosis\",\n",
    "    \"gyro_z_diff\",\n",
    "    \n",
    "] \n",
    "\n"
   ]
  },
  {
   "cell_type": "code",
   "execution_count": 19,
   "metadata": {
    "collapsed": false,
    "deletable": true,
    "editable": true
   },
   "outputs": [],
   "source": [
    "#train, test = graphlab.SFrame().read_csv(\"taps.csv\").random_split(0.8, seed=1)\n",
    "train, test = taps.random_split(0.8, seed=1)\n",
    "#test = taps # graphlab.SFrame().read_csv(\"taps.csv\")"
   ]
  },
  {
   "cell_type": "code",
   "execution_count": 20,
   "metadata": {
    "collapsed": false,
    "deletable": true,
    "editable": true
   },
   "outputs": [],
   "source": [
    "noise_model = graphlab.load_model(\"noise_model\")\n",
    "type_model = graphlab.load_model(\"type_model\")\n",
    "touch_model = graphlab.load_model(\"touch_model\")\n",
    "swipe_model = graphlab.load_model(\"swipe_model\")"
   ]
  },
  {
   "cell_type": "code",
   "execution_count": 21,
   "metadata": {
    "collapsed": true,
    "deletable": true,
    "editable": true
   },
   "outputs": [],
   "source": [
    "noise = test[test['noise'] == 1]\n",
    "not_noise = test[test['noise'] == 0]\n",
    "\n",
    "touches = not_noise[not_noise['type'] == \"TOUCH\"]\n",
    "swipes = not_noise[not_noise['type'] == \"SWIPE\"]"
   ]
  },
  {
   "cell_type": "markdown",
   "metadata": {
    "collapsed": false,
    "deletable": true,
    "editable": true
   },
   "source": [
    "# [Ceiling Analysis explained](https://d3c33hcgiwev3.cloudfront.net/19.4-ApplicationExamplePhotoOCR-CeilingAnalysisWhatPartOfThePipelineToWorkOnNext.6acb6550b22b11e49c064db6ead92550/full/540p/index.mp4?Expires=1488067200&Signature=Wlu5B9uRkREYKt0~6bVR~i6Tp5zN6k-uCRjFczQZKDu1dy6a1R55DLNWtknej1AbqtmZccxk8qDUiIJ7kT9U48llZxK1Y1BV2jqHR~iSkYK-pLmqZDCH-bDkEyMgDj-bdckYvqadcFpKj308QhIW8ihdsql-h9ehQx5DlDG5ERs_&Key-Pair-Id=APKAJLTNE6QMUY6HBC5A)"
   ]
  },
  {
   "cell_type": "markdown",
   "metadata": {
    "deletable": true,
    "editable": true
   },
   "source": [
    "# Full model"
   ]
  },
  {
   "cell_type": "code",
   "execution_count": 22,
   "metadata": {
    "collapsed": false,
    "deletable": true,
    "editable": true,
    "scrolled": true
   },
   "outputs": [
    {
     "name": "stdout",
     "output_type": "stream",
     "text": [
      "Touch final f1 55.1153796773 %\n",
      "Touch final confusion\n",
      "+---------------+-----------------+-------+\n",
      "|  target_label | predicted_label | count |\n",
      "+---------------+-----------------+-------+\n",
      "| BOTTOM-CENTER |  BOTTOM-CENTER  |  333  |\n",
      "|     CENTER    |      CENTER     |  281  |\n",
      "|  BOTTOM-LEFT  |   BOTTOM-LEFT   |  201  |\n",
      "|  CENTER-RIGHT |   CENTER-RIGHT  |  172  |\n",
      "|  CENTER-LEFT  |   CENTER-LEFT   |  151  |\n",
      "|  BOTTOM-RIGHT |   BOTTOM-RIGHT  |  100  |\n",
      "|   TOP-RIGHT   |    TOP-RIGHT    |   60  |\n",
      "|   TOP-CENTER  |    TOP-CENTER   |   56  |\n",
      "|    TOP-LEFT   |     TOP-LEFT    |   55  |\n",
      "|     NOISE     |  BOTTOM-CENTER  |   55  |\n",
      "+---------------+-----------------+-------+\n",
      "[86 rows x 3 columns]\n",
      "Note: Only the head of the SFrame is printed.\n",
      "You can use print_rows(num_rows=m, num_columns=n) to print more rows and columns.\n",
      "Touch final accuracy 78.5395763657 %\n",
      "Swipe final f1 28.5039048813 %\n",
      "Swipe final confusion\n",
      "+--------------+-----------------+-------+\n",
      "| target_label | predicted_label | count |\n",
      "+--------------+-----------------+-------+\n",
      "| BOTTOM->TOP  |   BOTTOM->TOP   |  922  |\n",
      "| TOP->BOTTOM  |   TOP->BOTTOM   |  734  |\n",
      "| RIGHT->LEFT  |   RIGHT->LEFT   |  429  |\n",
      "| LEFT->RIGHT  |   LEFT->RIGHT   |  390  |\n",
      "|    NOISE     |   BOTTOM->TOP   |   76  |\n",
      "|    NOISE     |   TOP->BOTTOM   |   69  |\n",
      "|    NOISE     |   RIGHT->LEFT   |   42  |\n",
      "|    NOISE     |   LEFT->RIGHT   |   22  |\n",
      "| RIGHT->LEFT  |   TOP->BOTTOM   |   13  |\n",
      "|    CENTER    |   TOP->BOTTOM   |   9   |\n",
      "+--------------+-----------------+-------+\n",
      "[38 rows x 3 columns]\n",
      "Note: Only the head of the SFrame is printed.\n",
      "You can use print_rows(num_rows=m, num_columns=n) to print more rows and columns.\n",
      "Swipe final accuracy 88.3612995359 %\n"
     ]
    }
   ],
   "source": [
    "predicted_not_noise = test[noise_model.predict(test) == 0]\n",
    "\n",
    "\n",
    "predicted_touches = predicted_not_noise[type_model.predict(predicted_not_noise) == \"TOUCH\"]\n",
    "predicted_swipes = predicted_not_noise[type_model.predict(predicted_not_noise) == \"SWIPE\"]\n",
    "touch_evaluation = touch_model.evaluate(predicted_touches)\n",
    "swipe_evaluation = swipe_model.evaluate(predicted_swipes)\n",
    "\n",
    "print \"Touch final f1\", touch_evaluation['f1_score']*100, \"%\"\n",
    "print \"Touch final confusion\"\n",
    "print touch_evaluation['confusion_matrix'].sort(\"count\", ascending=False)\n",
    "print \"Touch final accuracy\", touch_evaluation['accuracy']*100, \"%\"\n",
    "\n",
    "print \"Swipe final f1\", swipe_evaluation['f1_score']*100, \"%\"\n",
    "print \"Swipe final confusion\"\n",
    "print swipe_evaluation['confusion_matrix'].sort(\"count\", ascending=False)\n",
    "print \"Swipe final accuracy\", swipe_evaluation['accuracy']*100, \"%\""
   ]
  },
  {
   "cell_type": "markdown",
   "metadata": {
    "collapsed": false,
    "deletable": true,
    "editable": true
   },
   "source": [
    "# When providing real not_noise"
   ]
  },
  {
   "cell_type": "code",
   "execution_count": 23,
   "metadata": {
    "collapsed": false,
    "deletable": true,
    "editable": true
   },
   "outputs": [
    {
     "name": "stdout",
     "output_type": "stream",
     "text": [
      "Touch final f1 62.9399609934 %\n",
      "Touch final confusion\n",
      "+---------------+-----------------+-------+\n",
      "|  target_label | predicted_label | count |\n",
      "+---------------+-----------------+-------+\n",
      "| BOTTOM-CENTER |  BOTTOM-CENTER  |  343  |\n",
      "|     CENTER    |      CENTER     |  290  |\n",
      "|  BOTTOM-LEFT  |   BOTTOM-LEFT   |  207  |\n",
      "|  CENTER-RIGHT |   CENTER-RIGHT  |  181  |\n",
      "|  CENTER-LEFT  |   CENTER-LEFT   |  158  |\n",
      "|  BOTTOM-RIGHT |   BOTTOM-RIGHT  |  103  |\n",
      "|   TOP-RIGHT   |    TOP-RIGHT    |   60  |\n",
      "|   TOP-CENTER  |    TOP-CENTER   |   58  |\n",
      "|    TOP-LEFT   |     TOP-LEFT    |   58  |\n",
      "|  TOP->BOTTOM  |      CENTER     |   10  |\n",
      "+---------------+-----------------+-------+\n",
      "[81 rows x 3 columns]\n",
      "Note: Only the head of the SFrame is printed.\n",
      "You can use print_rows(num_rows=m, num_columns=n) to print more rows and columns.\n",
      "Touch final accuracy 88.8482632541 %\n",
      "Swipe final f1 31.9395574093 %\n",
      "Swipe final confusion\n",
      "+--------------+-----------------+-------+\n",
      "| target_label | predicted_label | count |\n",
      "+--------------+-----------------+-------+\n",
      "| BOTTOM->TOP  |   BOTTOM->TOP   |  937  |\n",
      "| TOP->BOTTOM  |   TOP->BOTTOM   |  754  |\n",
      "| RIGHT->LEFT  |   RIGHT->LEFT   |  437  |\n",
      "| LEFT->RIGHT  |   LEFT->RIGHT   |  398  |\n",
      "| RIGHT->LEFT  |   TOP->BOTTOM   |   14  |\n",
      "|    CENTER    |   TOP->BOTTOM   |   11  |\n",
      "| CENTER-RIGHT |   BOTTOM->TOP   |   9   |\n",
      "| TOP->BOTTOM  |   BOTTOM->TOP   |   9   |\n",
      "| RIGHT->LEFT  |   BOTTOM->TOP   |   8   |\n",
      "| TOP->BOTTOM  |   LEFT->RIGHT   |   8   |\n",
      "+--------------+-----------------+-------+\n",
      "[38 rows x 3 columns]\n",
      "Note: Only the head of the SFrame is printed.\n",
      "You can use print_rows(num_rows=m, num_columns=n) to print more rows and columns.\n",
      "Swipe final accuracy 94.8198198198 %\n"
     ]
    }
   ],
   "source": [
    "predicted_touches = not_noise[type_model.predict(not_noise) == \"TOUCH\"]\n",
    "predicted_swipes = not_noise[type_model.predict(not_noise) == \"SWIPE\"]\n",
    "touch_evaluation = touch_model.evaluate(predicted_touches)\n",
    "swipe_evaluation = swipe_model.evaluate(predicted_swipes)\n",
    "\n",
    "print \"Touch final f1\", touch_evaluation['f1_score']*100, \"%\"\n",
    "print \"Touch final confusion\"\n",
    "print touch_evaluation['confusion_matrix'].sort(\"count\", ascending=False)\n",
    "print \"Touch final accuracy\", touch_evaluation['accuracy']*100, \"%\"\n",
    "\n",
    "print \"Swipe final f1\", swipe_evaluation['f1_score']*100, \"%\"\n",
    "print \"Swipe final confusion\"\n",
    "print swipe_evaluation['confusion_matrix'].sort(\"count\", ascending=False)\n",
    "print \"Swipe final accuracy\", swipe_evaluation['accuracy']*100, \"%\""
   ]
  },
  {
   "cell_type": "markdown",
   "metadata": {
    "collapsed": false,
    "deletable": true,
    "editable": true
   },
   "source": [
    "# When providing real swipes and touches"
   ]
  },
  {
   "cell_type": "code",
   "execution_count": 24,
   "metadata": {
    "collapsed": false,
    "deletable": true,
    "editable": true
   },
   "outputs": [
    {
     "name": "stdout",
     "output_type": "stream",
     "text": [
      "Touch final f1 92.9101671833 %\n",
      "Touch final confusion\n",
      "+---------------+-----------------+-------+\n",
      "|  target_label | predicted_label | count |\n",
      "+---------------+-----------------+-------+\n",
      "| BOTTOM-CENTER |  BOTTOM-CENTER  |  352  |\n",
      "|     CENTER    |      CENTER     |  308  |\n",
      "|  BOTTOM-LEFT  |   BOTTOM-LEFT   |  211  |\n",
      "|  CENTER-RIGHT |   CENTER-RIGHT  |  191  |\n",
      "|  CENTER-LEFT  |   CENTER-LEFT   |  164  |\n",
      "|  BOTTOM-RIGHT |   BOTTOM-RIGHT  |  106  |\n",
      "|   TOP-RIGHT   |    TOP-RIGHT    |   62  |\n",
      "|    TOP-LEFT   |     TOP-LEFT    |   61  |\n",
      "|   TOP-CENTER  |    TOP-CENTER   |   58  |\n",
      "|  CENTER-LEFT  |      CENTER     |   7   |\n",
      "+---------------+-----------------+-------+\n",
      "[53 rows x 3 columns]\n",
      "Note: Only the head of the SFrame is printed.\n",
      "You can use print_rows(num_rows=m, num_columns=n) to print more rows and columns.\n",
      "Touch final accuracy 93.6262376238 %\n",
      "Swipe final f1 96.3959192927 %\n",
      "Swipe final confusion\n",
      "+--------------+-----------------+-------+\n",
      "| target_label | predicted_label | count |\n",
      "+--------------+-----------------+-------+\n",
      "| BOTTOM->TOP  |   BOTTOM->TOP   |  954  |\n",
      "| TOP->BOTTOM  |   TOP->BOTTOM   |  780  |\n",
      "| RIGHT->LEFT  |   RIGHT->LEFT   |  455  |\n",
      "| LEFT->RIGHT  |   LEFT->RIGHT   |  413  |\n",
      "| RIGHT->LEFT  |   TOP->BOTTOM   |   15  |\n",
      "| TOP->BOTTOM  |   BOTTOM->TOP   |   12  |\n",
      "| BOTTOM->TOP  |   RIGHT->LEFT   |   10  |\n",
      "| RIGHT->LEFT  |   LEFT->RIGHT   |   9   |\n",
      "| LEFT->RIGHT  |   BOTTOM->TOP   |   9   |\n",
      "| TOP->BOTTOM  |   LEFT->RIGHT   |   8   |\n",
      "+--------------+-----------------+-------+\n",
      "[16 rows x 3 columns]\n",
      "Note: Only the head of the SFrame is printed.\n",
      "You can use print_rows(num_rows=m, num_columns=n) to print more rows and columns.\n",
      "Swipe final accuracy 96.7645965043 %\n"
     ]
    }
   ],
   "source": [
    "touch_evaluation = touch_model.evaluate(touches)\n",
    "swipe_evaluation = swipe_model.evaluate(swipes)\n",
    "\n",
    "print \"Touch final f1\", touch_evaluation['f1_score']*100, \"%\"\n",
    "print \"Touch final confusion\"\n",
    "print touch_evaluation['confusion_matrix'].sort(\"count\", ascending=False)\n",
    "print \"Touch final accuracy\", touch_evaluation['accuracy']*100, \"%\"\n",
    "\n",
    "print \"Swipe final f1\", swipe_evaluation['f1_score']*100, \"%\"\n",
    "print \"Swipe final confusion\"\n",
    "print swipe_evaluation['confusion_matrix'].sort(\"count\", ascending=False)\n",
    "print \"Swipe final accuracy\", swipe_evaluation['accuracy']*100, \"%\""
   ]
  },
  {
   "cell_type": "code",
   "execution_count": 25,
   "metadata": {
    "collapsed": false,
    "deletable": true,
    "editable": true
   },
   "outputs": [
    {
     "data": {
      "text/plain": [
       "{'accuracy': 0.9154596511971623,\n",
       " 'auc': 0.9712234198443471,\n",
       " 'confusion_matrix': Columns:\n",
       " \ttarget_label\tint\n",
       " \tpredicted_label\tint\n",
       " \tcount\tint\n",
       " \n",
       " Rows: 4\n",
       " \n",
       " Data:\n",
       " +--------------+-----------------+-------+\n",
       " | target_label | predicted_label | count |\n",
       " +--------------+-----------------+-------+\n",
       " |      0       |        1        |  141  |\n",
       " |      0       |        0        |  4164 |\n",
       " |      1       |        1        |  2030 |\n",
       " |      1       |        0        |  431  |\n",
       " +--------------+-----------------+-------+\n",
       " [4 rows x 3 columns],\n",
       " 'f1_score': 0.8765112262521589,\n",
       " 'log_loss': 0.22170771877339696,\n",
       " 'precision': 0.9350529709811147,\n",
       " 'recall': 0.8248679398618448,\n",
       " 'roc_curve': Columns:\n",
       " \tthreshold\tfloat\n",
       " \tfpr\tfloat\n",
       " \ttpr\tfloat\n",
       " \tp\tint\n",
       " \tn\tint\n",
       " \n",
       " Rows: 100001\n",
       " \n",
       " Data:\n",
       " +-----------+----------------+----------------+------+------+\n",
       " | threshold |      fpr       |      tpr       |  p   |  n   |\n",
       " +-----------+----------------+----------------+------+------+\n",
       " |    0.0    |      1.0       |      1.0       | 2461 | 4305 |\n",
       " |   1e-05   | 0.99512195122  | 0.999593661113 | 2461 | 4305 |\n",
       " |   2e-05   | 0.98931475029  | 0.999593661113 | 2461 | 4305 |\n",
       " |   3e-05   | 0.983042973287 | 0.999593661113 | 2461 | 4305 |\n",
       " |   4e-05   | 0.97537746806  | 0.999593661113 | 2461 | 4305 |\n",
       " |   5e-05   | 0.969105691057 | 0.999593661113 | 2461 | 4305 |\n",
       " |   6e-05   | 0.963995354239 | 0.999593661113 | 2461 | 4305 |\n",
       " |   7e-05   | 0.959349593496 | 0.999593661113 | 2461 | 4305 |\n",
       " |   8e-05   | 0.955168408827 | 0.999593661113 | 2461 | 4305 |\n",
       " |   9e-05   | 0.949361207898 | 0.999593661113 | 2461 | 4305 |\n",
       " +-----------+----------------+----------------+------+------+\n",
       " [100001 rows x 5 columns]\n",
       " Note: Only the head of the SFrame is printed.\n",
       " You can use print_rows(num_rows=m, num_columns=n) to print more rows and columns.}"
      ]
     },
     "execution_count": 25,
     "metadata": {},
     "output_type": "execute_result"
    }
   ],
   "source": [
    "noise_model.evaluate(test)"
   ]
  },
  {
   "cell_type": "code",
   "execution_count": 26,
   "metadata": {
    "collapsed": false,
    "deletable": true,
    "editable": true
   },
   "outputs": [
    {
     "data": {
      "text/plain": [
       "{'accuracy': 0.9630662020905923,\n",
       " 'auc': 0.9919892742342266,\n",
       " 'confusion_matrix': Columns:\n",
       " \ttarget_label\tstr\n",
       " \tpredicted_label\tstr\n",
       " \tcount\tint\n",
       " \n",
       " Rows: 4\n",
       " \n",
       " Data:\n",
       " +--------------+-----------------+-------+\n",
       " | target_label | predicted_label | count |\n",
       " +--------------+-----------------+-------+\n",
       " |    TOUCH     |      SWIPE      |   67  |\n",
       " |    SWIPE     |      TOUCH      |   92  |\n",
       " |    SWIPE     |      SWIPE      |  2597 |\n",
       " |    TOUCH     |      TOUCH      |  1549 |\n",
       " +--------------+-----------------+-------+\n",
       " [4 rows x 3 columns],\n",
       " 'f1_score': 0.9511820693890083,\n",
       " 'log_loss': 0.11530351339483288,\n",
       " 'precision': 0.9439366240097502,\n",
       " 'recall': 0.9585396039603961,\n",
       " 'roc_curve': Columns:\n",
       " \tthreshold\tfloat\n",
       " \tfpr\tfloat\n",
       " \ttpr\tfloat\n",
       " \tp\tint\n",
       " \tn\tint\n",
       " \n",
       " Rows: 100001\n",
       " \n",
       " Data:\n",
       " +-----------+----------------+-----+------+------+\n",
       " | threshold |      fpr       | tpr |  p   |  n   |\n",
       " +-----------+----------------+-----+------+------+\n",
       " |    0.0    |      1.0       | 1.0 | 1616 | 2689 |\n",
       " |   1e-05   | 0.797694310152 | 1.0 | 1616 | 2689 |\n",
       " |   2e-05   | 0.739308293046 | 1.0 | 1616 | 2689 |\n",
       " |   3e-05   | 0.700632205281 | 1.0 | 1616 | 2689 |\n",
       " |   4e-05   | 0.671253253998 | 1.0 | 1616 | 2689 |\n",
       " |   5e-05   | 0.645221271848 | 1.0 | 1616 | 2689 |\n",
       " |   6e-05   | 0.629602082559 | 1.0 | 1616 | 2689 |\n",
       " |   7e-05   | 0.612495351432 | 1.0 | 1616 | 2689 |\n",
       " |   8e-05   | 0.598363703979 | 1.0 | 1616 | 2689 |\n",
       " |   9e-05   | 0.582744514689 | 1.0 | 1616 | 2689 |\n",
       " +-----------+----------------+-----+------+------+\n",
       " [100001 rows x 5 columns]\n",
       " Note: Only the head of the SFrame is printed.\n",
       " You can use print_rows(num_rows=m, num_columns=n) to print more rows and columns.}"
      ]
     },
     "execution_count": 26,
     "metadata": {},
     "output_type": "execute_result"
    }
   ],
   "source": [
    "type_model.evaluate(not_noise)"
   ]
  },
  {
   "cell_type": "code",
   "execution_count": 27,
   "metadata": {
    "collapsed": false,
    "deletable": true,
    "editable": true
   },
   "outputs": [
    {
     "data": {
      "text/plain": [
       "{'accuracy': 0.9676459650427668,\n",
       " 'auc': 0.9981127880306332,\n",
       " 'confusion_matrix': Columns:\n",
       " \ttarget_label\tstr\n",
       " \tpredicted_label\tstr\n",
       " \tcount\tint\n",
       " \n",
       " Rows: 16\n",
       " \n",
       " Data:\n",
       " +--------------+-----------------+-------+\n",
       " | target_label | predicted_label | count |\n",
       " +--------------+-----------------+-------+\n",
       " | BOTTOM->TOP  |   TOP->BOTTOM   |   1   |\n",
       " | TOP->BOTTOM  |   LEFT->RIGHT   |   8   |\n",
       " | TOP->BOTTOM  |   BOTTOM->TOP   |   12  |\n",
       " | BOTTOM->TOP  |   LEFT->RIGHT   |   3   |\n",
       " | TOP->BOTTOM  |   RIGHT->LEFT   |   3   |\n",
       " | LEFT->RIGHT  |   LEFT->RIGHT   |  413  |\n",
       " | BOTTOM->TOP  |   BOTTOM->TOP   |  954  |\n",
       " | RIGHT->LEFT  |   TOP->BOTTOM   |   15  |\n",
       " | TOP->BOTTOM  |   TOP->BOTTOM   |  780  |\n",
       " | RIGHT->LEFT  |   RIGHT->LEFT   |  455  |\n",
       " +--------------+-----------------+-------+\n",
       " [16 rows x 3 columns]\n",
       " Note: Only the head of the SFrame is printed.\n",
       " You can use print_rows(num_rows=m, num_columns=n) to print more rows and columns.,\n",
       " 'f1_score': 0.9639591929274108,\n",
       " 'log_loss': 0.09626637715440942,\n",
       " 'precision': 0.9657268500401771,\n",
       " 'recall': 0.9623557099594406,\n",
       " 'roc_curve': Columns:\n",
       " \tthreshold\tfloat\n",
       " \tfpr\tfloat\n",
       " \ttpr\tfloat\n",
       " \tp\tint\n",
       " \tn\tint\n",
       " \tclass\tint\n",
       " \n",
       " Rows: 400004\n",
       " \n",
       " Data:\n",
       " +-----------+----------------+-----+-----+------+-------+\n",
       " | threshold |      fpr       | tpr |  p  |  n   | class |\n",
       " +-----------+----------------+-----+-----+------+-------+\n",
       " |    0.0    |      1.0       | 1.0 | 968 | 1721 |   0   |\n",
       " |   1e-05   | 0.853573503777 | 1.0 | 968 | 1721 |   0   |\n",
       " |   2e-05   | 0.805926786752 | 1.0 | 968 | 1721 |   0   |\n",
       " |   3e-05   | 0.768158047647 | 1.0 | 968 | 1721 |   0   |\n",
       " |   4e-05   | 0.738524113887 | 1.0 | 968 | 1721 |   0   |\n",
       " |   5e-05   | 0.722254503196 | 1.0 | 968 | 1721 |   0   |\n",
       " |   6e-05   | 0.70540383498  | 1.0 | 968 | 1721 |   0   |\n",
       " |   7e-05   | 0.688553166764 | 1.0 | 968 | 1721 |   0   |\n",
       " |   8e-05   | 0.67693201627  | 1.0 | 968 | 1721 |   0   |\n",
       " |   9e-05   | 0.663567693202 | 1.0 | 968 | 1721 |   0   |\n",
       " +-----------+----------------+-----+-----+------+-------+\n",
       " [400004 rows x 6 columns]\n",
       " Note: Only the head of the SFrame is printed.\n",
       " You can use print_rows(num_rows=m, num_columns=n) to print more rows and columns.}"
      ]
     },
     "execution_count": 27,
     "metadata": {},
     "output_type": "execute_result"
    }
   ],
   "source": [
    "swipe_model.evaluate(swipes)"
   ]
  },
  {
   "cell_type": "code",
   "execution_count": 28,
   "metadata": {
    "collapsed": false,
    "deletable": true,
    "editable": true
   },
   "outputs": [
    {
     "data": {
      "text/plain": [
       "{'accuracy': 0.9362623762376238,\n",
       " 'auc': 0.9961251969460514,\n",
       " 'confusion_matrix': Columns:\n",
       " \ttarget_label\tstr\n",
       " \tpredicted_label\tstr\n",
       " \tcount\tint\n",
       " \n",
       " Rows: 53\n",
       " \n",
       " Data:\n",
       " +---------------+-----------------+-------+\n",
       " |  target_label | predicted_label | count |\n",
       " +---------------+-----------------+-------+\n",
       " |  BOTTOM-RIGHT |   BOTTOM-LEFT   |   1   |\n",
       " |  CENTER-RIGHT |   CENTER-RIGHT  |  191  |\n",
       " |  CENTER-RIGHT |   BOTTOM-LEFT   |   4   |\n",
       " | BOTTOM-CENTER |   CENTER-RIGHT  |   1   |\n",
       " |     CENTER    |   BOTTOM-LEFT   |   2   |\n",
       " |    TOP-LEFT   |    TOP-RIGHT    |   1   |\n",
       " |  CENTER-RIGHT |  BOTTOM-CENTER  |   4   |\n",
       " |   TOP-CENTER  |   BOTTOM-LEFT   |   1   |\n",
       " |  CENTER-RIGHT |    TOP-RIGHT    |   1   |\n",
       " |   TOP-CENTER  |   CENTER-RIGHT  |   1   |\n",
       " +---------------+-----------------+-------+\n",
       " [53 rows x 3 columns]\n",
       " Note: Only the head of the SFrame is printed.\n",
       " You can use print_rows(num_rows=m, num_columns=n) to print more rows and columns.,\n",
       " 'f1_score': 0.9291016718329576,\n",
       " 'log_loss': 0.20581343987643963,\n",
       " 'precision': 0.9440376202723283,\n",
       " 'recall': 0.9172533949988053,\n",
       " 'roc_curve': Columns:\n",
       " \tthreshold\tfloat\n",
       " \tfpr\tfloat\n",
       " \ttpr\tfloat\n",
       " \tp\tint\n",
       " \tn\tint\n",
       " \tclass\tint\n",
       " \n",
       " Rows: 900009\n",
       " \n",
       " Data:\n",
       " +-----------+----------------+-----+-----+------+-------+\n",
       " | threshold |      fpr       | tpr |  p  |  n   | class |\n",
       " +-----------+----------------+-----+-----+------+-------+\n",
       " |    0.0    |      1.0       | 1.0 | 358 | 1258 |   0   |\n",
       " |   1e-05   | 0.85453100159  | 1.0 | 358 | 1258 |   0   |\n",
       " |   2e-05   | 0.788553259141 | 1.0 | 358 | 1258 |   0   |\n",
       " |   3e-05   | 0.743243243243 | 1.0 | 358 | 1258 |   0   |\n",
       " |   4e-05   | 0.713831478537 | 1.0 | 358 | 1258 |   0   |\n",
       " |   5e-05   | 0.692368839428 | 1.0 | 358 | 1258 |   0   |\n",
       " |   6e-05   | 0.669316375199 | 1.0 | 358 | 1258 |   0   |\n",
       " |   7e-05   | 0.657392686804 | 1.0 | 358 | 1258 |   0   |\n",
       " |   8e-05   | 0.643879173291 | 1.0 | 358 | 1258 |   0   |\n",
       " |   9e-05   | 0.627980922099 | 1.0 | 358 | 1258 |   0   |\n",
       " +-----------+----------------+-----+-----+------+-------+\n",
       " [900009 rows x 6 columns]\n",
       " Note: Only the head of the SFrame is printed.\n",
       " You can use print_rows(num_rows=m, num_columns=n) to print more rows and columns.}"
      ]
     },
     "execution_count": 28,
     "metadata": {},
     "output_type": "execute_result"
    }
   ],
   "source": [
    "touch_model.evaluate(touches)"
   ]
  },
  {
   "cell_type": "code",
   "execution_count": null,
   "metadata": {
    "collapsed": true,
    "deletable": true,
    "editable": true
   },
   "outputs": [],
   "source": []
  }
 ],
 "metadata": {
  "kernelspec": {
   "display_name": "Python 2",
   "language": "python",
   "name": "python2"
  },
  "language_info": {
   "codemirror_mode": {
    "name": "ipython",
    "version": 2
   },
   "file_extension": ".py",
   "mimetype": "text/x-python",
   "name": "python",
   "nbconvert_exporter": "python",
   "pygments_lexer": "ipython2",
   "version": "2.7.12"
  }
 },
 "nbformat": 4,
 "nbformat_minor": 0
}
